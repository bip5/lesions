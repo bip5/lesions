{
 "cells": [
  {
   "cell_type": "code",
   "execution_count": 1,
   "metadata": {},
   "outputs": [],
   "source": [
    "import numpy as np\n",
    "import os\n",
    "import argparse\n",
    "from skimage.io import imsave\n",
    "import nibabel as nb\n",
    "import pandas as pd\n",
    "import matplotlib\n",
    "matplotlib.rcParams['font.size']=16\n",
    "\n",
    "\n",
    "\n",
    "import seaborn as sns\n",
    "import matplotlib.pyplot as plt\n",
    "\n",
    "import torch\n",
    "import torch.nn as nn\n",
    "import torch.optim as optim\n",
    "from torch.utils.data import Dataset, DataLoader\n",
    "\n",
    "from sklearn.preprocessing import StandardScaler    \n",
    "from sklearn.model_selection import train_test_split\n",
    "from sklearn.metrics import plot_confusion_matrix, classification_report, confusion_matrix"
   ]
  },
  {
   "cell_type": "code",
   "execution_count": 2,
   "metadata": {},
   "outputs": [],
   "source": [
    "from torch.autograd import Variable\n",
    "from torch.nn import Linear, ReLU, CrossEntropyLoss, Sequential, Conv2d, MaxPool2d, Module, Softmax, BatchNorm1d, BatchNorm2d, Dropout\n",
    "from torch.optim import Adam, SGD"
   ]
  },
  {
   "cell_type": "code",
   "execution_count": 3,
   "metadata": {},
   "outputs": [],
   "source": [
    "from nilearn import plotting\n",
    "\n",
    "import matplotlib.pyplot as plt\n",
    "\n",
    "from sklearn.model_selection import KFold"
   ]
  },
  {
   "cell_type": "markdown",
   "metadata": {},
   "source": [
    "#### Importing Images"
   ]
  },
  {
   "cell_type": "code",
   "execution_count": 4,
   "metadata": {
    "code_folding": [],
    "scrolled": true
   },
   "outputs": [],
   "source": [
    "imageArray=np.full((31988-31768,197,233,189),0)\n",
    "maskArray=np.full((31988-31768,197,233,189),0)\n",
    "\n",
    "\n",
    "# concatenate all the files into a single tensor\n",
    "for i in range(31768,31988):\n",
    "    idx=i\n",
    "    filename='ATLAS_R1.1 - Copy/0'+str(idx)+'_t1w_deface_stx.nii.gz'\n",
    "    img=nb.load(filename)\n",
    "    imageArray[i-31768,:,:,:]=img.get_fdata()\n"
   ]
  },
  {
   "cell_type": "markdown",
   "metadata": {},
   "source": [
    "#### Importing Mask"
   ]
  },
  {
   "cell_type": "code",
   "execution_count": 5,
   "metadata": {},
   "outputs": [],
   "source": [
    "for i in range(31768,31988):\n",
    "    mask_name='ATLAS_R1.1 - Copy/0'+str(i)+'_LesionSmooth_stx.nii.gz'\n",
    "    mask=nb.load(mask_name)\n",
    "    maskArray[i-31768,:,:,:]=mask.get_fdata()"
   ]
  },
  {
   "cell_type": "markdown",
   "metadata": {
    "heading_collapsed": true
   },
   "source": [
    "#### Extracting Image and Masks"
   ]
  },
  {
   "cell_type": "code",
   "execution_count": null,
   "metadata": {
    "hidden": true
   },
   "outputs": [],
   "source": [
    "lesions= maskArray[:,:,:,:].nonzero()"
   ]
  },
  {
   "cell_type": "code",
   "execution_count": null,
   "metadata": {
    "hidden": true
   },
   "outputs": [],
   "source": [
    "print(len(lesions[0]),len(lesions[1]),len(lesions[2]),len(lesions[3]))"
   ]
  },
  {
   "cell_type": "code",
   "execution_count": null,
   "metadata": {
    "hidden": true
   },
   "outputs": [],
   "source": [
    "image_count=imageArray . shape[0]\n",
    "count_top=imageArray.shape[3]\n",
    "count_front=imageArray.shape[2]\n",
    "count_side=imageArray.shape[1]\n",
    "\n",
    "total_pixels=imageArray.shape[1]*imageArray.shape[2]*imageArray.shape[3]\n",
    "lesion_pixels=np.zeros((image_count,6))\n",
    "\n",
    "lesion_area_top=np.zeros((image_count,count_top,7))\n",
    "lesion_area_front=np.zeros((image_count,count_front,7))\n",
    "lesion_area_side=np.zeros((image_count,count_side,7))"
   ]
  },
  {
   "cell_type": "code",
   "execution_count": null,
   "metadata": {
    "hidden": true
   },
   "outputs": [],
   "source": [
    "total_pixels"
   ]
  },
  {
   "cell_type": "markdown",
   "metadata": {
    "heading_collapsed": true
   },
   "source": [
    "#### Lesion Area"
   ]
  },
  {
   "cell_type": "code",
   "execution_count": null,
   "metadata": {
    "code_folding": [],
    "hidden": true
   },
   "outputs": [],
   "source": [
    "# Calculating Area\n",
    "for i in range(image_count):\n",
    "    for j in range(count_top):\n",
    "        mask = maskArray [i,:,:,j] .nonzero()\n",
    "        lesion_pix=len(mask[0])\n",
    "        lesion_area_top[i,j,0]= i\n",
    "        lesion_area_top[i,j,1]= lesion_pix\n",
    "        lesion_area_top[i,j,2]= 100* lesion_pix/(count_front*count_side) \n",
    "        lesion_area_top[i,j,3]= 1\n",
    "        lesion_area_top[i,j,4]= j\n",
    "        if lesion_pix != 0 :\n",
    "            lesion_area_top[i,j,5]= np.mean(mask[0])\n",
    "            lesion_area_top[i,j,6]= np.mean(mask[1])\n",
    "        \n",
    "        \n",
    "        \n",
    "    for k in range(count_front):\n",
    "        mask = maskArray [i,:,k,:] .nonzero()\n",
    "        lesion_pix=len(mask[0])\n",
    "        lesion_area_front[i,k,0]= i\n",
    "        lesion_area_front[i,k,1]= lesion_pix\n",
    "        lesion_area_front[i,k,2]= 100* lesion_pix/(count_top*count_side)\n",
    "        lesion_area_front[i,k,3]= 2\n",
    "        lesion_area_front[i,k,4]= k\n",
    "        if lesion_pix != 0 :\n",
    "            lesion_area_front[i,k,5]= np.mean(mask[0])\n",
    "            lesion_area_front[i,k,6]= np.mean(mask[1])\n",
    "                \n",
    "        \n",
    "    for l in range(count_side):\n",
    "        mask = maskArray [i,l,:,:] .nonzero()\n",
    "        lesion_pix=len(mask[0])\n",
    "        lesion_area_side[i,l,0]= i\n",
    "        lesion_area_side[i,l,1]= lesion_pix\n",
    "        lesion_area_side[i,l,2]= 100* lesion_pix/(count_top*count_front)\n",
    "        lesion_area_side[i,l,3]= 3\n",
    "        lesion_area_side[i,l,4]= l\n",
    "        if lesion_pix != 0 :\n",
    "            lesion_area_side[i,l,5]= np.mean(mask[0])\n",
    "            lesion_area_side[i,l,6]= np.mean(mask[1])\n",
    "        "
   ]
  },
  {
   "cell_type": "code",
   "execution_count": null,
   "metadata": {
    "hidden": true
   },
   "outputs": [],
   "source": [
    "lesion_area_top.shape"
   ]
  },
  {
   "cell_type": "code",
   "execution_count": null,
   "metadata": {
    "hidden": true,
    "scrolled": true
   },
   "outputs": [],
   "source": [
    "lesion_area_top_table=pd.DataFrame(lesion_area_top.reshape\\\n",
    "                                   (image_count*count_top,7),\\\n",
    "                                   columns=[\"Scan #\",\"Lesion Area(pixels)\",\\\n",
    "                                            \"Lesion Area(%)\",\\\n",
    "                                            \"View[top=1, front=2, side=3]\",\\\n",
    "                                           \"Slice #\",\"Centroid x\",\"Centroid y\"])\n",
    "lesion_area_front_table=pd.DataFrame(lesion_area_front.reshape\\\n",
    "                                   (image_count*count_front,7),\\\n",
    "                                   columns=[\"Scan #\",\"Lesion Area(pixels)\",\\\n",
    "                                            \"Lesion Area(%)\",\\\n",
    "                                            \"View[top=1, front=2, side=3]\",\\\n",
    "                                           \"Slice #\",\"Centroid x\",\"Centroid y\"])\n",
    "lesion_area_side_table=pd.DataFrame(lesion_area_side.reshape\\\n",
    "                                   (image_count*count_side,7),\\\n",
    "                                   columns=[\"Scan #\",\"Lesion Area(pixels)\",\\\n",
    "                                            \"Lesion Area(%)\",\\\n",
    "                                            \"View[top=1, front=2, side=3]\",\\\n",
    "                                           \"Slice #\",\"Centroid x\",\"Centroid y\"])"
   ]
  },
  {
   "cell_type": "code",
   "execution_count": null,
   "metadata": {
    "hidden": true
   },
   "outputs": [],
   "source": [
    "lesion_area=lesion_area_top_table.append(lesion_area_front_table\\\n",
    "                                         .append(lesion_area_side_table))"
   ]
  },
  {
   "cell_type": "code",
   "execution_count": null,
   "metadata": {
    "hidden": true
   },
   "outputs": [],
   "source": [
    "lesion_area_top_table.shape"
   ]
  },
  {
   "cell_type": "code",
   "execution_count": null,
   "metadata": {
    "hidden": true
   },
   "outputs": [],
   "source": [
    "top= lesion_area_top_table.loc[lesion_area_top_table.iloc[:,2]>0]\n",
    "front= lesion_area_front_table.loc[lesion_area_front_table.iloc[:,2]>0]\n",
    "side=lesion_area_side_table.loc[lesion_area_side_table.iloc[:,2]>0]"
   ]
  },
  {
   "cell_type": "code",
   "execution_count": null,
   "metadata": {
    "hidden": true
   },
   "outputs": [],
   "source": [
    "top.shape"
   ]
  },
  {
   "cell_type": "code",
   "execution_count": null,
   "metadata": {
    "hidden": true
   },
   "outputs": [],
   "source": [
    "\n",
    "\n",
    "n_bins=20\n",
    "\n",
    "fig, axs= plt.subplots(1,3,sharey=True, tight_layout=True, figsize=(12,5))\n",
    "\n",
    "axs[0].hist(top.iloc[:,2],bins=20)\n",
    "axs[0].set_xlabel('Top(%)')\n",
    "axs[0].set_ylabel('Frequency')\n",
    "axs[1].hist(front.iloc[:,2],bins=20)\n",
    "axs[1].set_xlabel('Front(%)')\n",
    "axs[2].hist(side.iloc[:,2],bins=20)\n",
    "axs[2].set_xlabel('Side(%)')\n",
    "\n",
    "plt.suptitle('Percentage Lesion Area by View for slices with Lesions',y=1.02)\n",
    "\n",
    "plt.show()"
   ]
  },
  {
   "cell_type": "code",
   "execution_count": null,
   "metadata": {
    "hidden": true
   },
   "outputs": [],
   "source": [
    "fig = plt.figure(figsize=(12,5))\n",
    "ax = fig.add_subplot(121, projection='3d',)\n",
    "\n",
    "matplotlib.rcParams['font.size']=10\n",
    "x=top.iloc[:,5]\n",
    "y=top.iloc[:,6]\n",
    "\n",
    "\n",
    "X,Y=np.meshgrid(x,y)\n",
    "Z=0\n",
    "hist, xedges, yedges=np.histogram2d(x,y,bins=20, range=[[20,x.max()],[20,y.max()]])\n",
    "\n",
    "\n",
    "# Construct arrays for the anchor positions of the 16 bars.\n",
    "xpos, ypos = np.meshgrid(xedges[:-1] + 10, yedges[:-1] +10, indexing=\"ij\")\n",
    "xpos = xpos.ravel()\n",
    "ypos = ypos.ravel()\n",
    "zpos = 0\n",
    "\n",
    "\n",
    "# Construct arrays with the dimensions for the 16 bars.\n",
    "dx = dy = 0.5 * np.ones_like(zpos)\n",
    "dz = hist.ravel()\n",
    "\n",
    "ax.bar3d(xpos, ypos, zpos, dx, dy, dz, zsort='average')\n",
    "#ax.bar3d(X, Y, Z, dx, dy, dz, zsort='average')\n",
    "\n",
    "ax.set_xlabel('x')\n",
    "ax.set_ylabel('y')\n",
    "ax.set_zlabel('Frequency')\n",
    "ax.set_title('Centroid Location Top View')\n",
    "\n",
    "plt.tight_layout()\n",
    "\n",
    "ax2 = fig.add_subplot(122)\n",
    "data=imageArray[41,:,:,:]\n",
    "plt.imshow(data[:,:,data.shape[2]//2], cmap='Greys_r')\n",
    "ax2.set_xlabel('y')\n",
    "ax2.set_ylabel('x')\n",
    "ax2.set_title('Sample Slice')\n",
    "\n",
    "plt.tight_layout()"
   ]
  },
  {
   "cell_type": "code",
   "execution_count": null,
   "metadata": {
    "hidden": true
   },
   "outputs": [],
   "source": [
    "fig = plt.figure(figsize=(12,5))\n",
    "ax = fig.add_subplot(121, projection='3d')\n",
    "\n",
    "matplotlib.rcParams['font.size']=10\n",
    "x=front.iloc[:,5]\n",
    "y=front.iloc[:,6]\n",
    "\n",
    "\n",
    "X,Y=np.meshgrid(x,y)\n",
    "Z=0\n",
    "hist, xedges, yedges=np.histogram2d(x,y,bins=20, range=[[20,x.max()],[20,y.max()]])\n",
    "\n",
    "\n",
    "# Construct arrays for the anchor positions of the 16 bars.\n",
    "xpos, ypos = np.meshgrid(xedges[:-1] + 10, yedges[:-1] +10, indexing=\"ij\")\n",
    "xpos = xpos.ravel()\n",
    "ypos = ypos.ravel()\n",
    "zpos = 0\n",
    "\n",
    "\n",
    "# Construct arrays with the dimensions for the 16 bars.\n",
    "dx = dy = 0.5 * np.ones_like(zpos)\n",
    "dz = hist.ravel()\n",
    "\n",
    "ax.bar3d(xpos, ypos, zpos, dx, dy, dz, zsort='average')\n",
    "#ax.bar3d(X, Y, Z, dx, dy, dz, zsort='average')\n",
    "\n",
    "ax.set_xlabel('x')\n",
    "ax.set_ylabel('y')\n",
    "ax.set_zlabel('Frequency')\n",
    "ax.set_title('Centroid Location Front View')\n",
    "\n",
    "ax2 = fig.add_subplot(122)\n",
    "data=imageArray[41,:,:,:]\n",
    "plt.imshow(data[:,data.shape[2]//2,:], cmap='Greys_r')\n",
    "ax2.set_title('Sample Slice')\n",
    "ax2.set_xlabel('y')\n",
    "ax2.set_ylabel('x')\n",
    "plt.tight_layout()"
   ]
  },
  {
   "cell_type": "code",
   "execution_count": null,
   "metadata": {
    "hidden": true
   },
   "outputs": [],
   "source": [
    "fig = plt.figure(figsize=(12,5))\n",
    "ax = fig.add_subplot(121, projection='3d')\n",
    "\n",
    "matplotlib.rcParams['font.size']=10\n",
    "x=side.iloc[:,5]\n",
    "y=side.iloc[:,6]\n",
    "\n",
    "\n",
    "X,Y=np.meshgrid(x,y)\n",
    "Z=0\n",
    "hist, xedges, yedges=np.histogram2d(x,y,bins=20, range=[[20,x.max()],[20,y.max()]])\n",
    "\n",
    "\n",
    "# Construct arrays for the anchor positions of the 16 bars.\n",
    "xpos, ypos = np.meshgrid(xedges[:-1] + 10, yedges[:-1] +10, indexing=\"ij\")\n",
    "xpos = xpos.ravel()\n",
    "ypos = ypos.ravel()\n",
    "zpos = 0\n",
    "\n",
    "\n",
    "# Construct arrays with the dimensions for the 16 bars.\n",
    "dx = dy = 0.5 * np.ones_like(zpos)\n",
    "dz = hist.ravel()\n",
    "\n",
    "ax.bar3d(xpos, ypos, zpos, dx, dy, dz, zsort='average')\n",
    "#ax.bar3d(X, Y, Z, dx, dy, dz, zsort='average')\n",
    "\n",
    "ax.set_xlabel('x')\n",
    "ax.set_ylabel('y')\n",
    "ax.set_zlabel('Frequency')\n",
    "ax.set_title('Centroid Location Side View')\n",
    "\n",
    "ax2 = fig.add_subplot(122)\n",
    "data=imageArray[41,:,:,:]\n",
    "plt.imshow(data[data.shape[2]//2,:,:], cmap='Greys_r')\n",
    "ax2.set_title('Sample Slice')\n",
    "ax2.set_xlabel('y')\n",
    "ax2.set_ylabel('x')\n",
    "plt.tight_layout()"
   ]
  },
  {
   "cell_type": "code",
   "execution_count": null,
   "metadata": {
    "hidden": true
   },
   "outputs": [],
   "source": [
    "hist"
   ]
  },
  {
   "cell_type": "code",
   "execution_count": null,
   "metadata": {
    "hidden": true
   },
   "outputs": [],
   "source": [
    "lesion_area.to_csv(\"lesion_area_centroid.csv\")"
   ]
  },
  {
   "cell_type": "markdown",
   "metadata": {
    "heading_collapsed": true
   },
   "source": [
    "#### Number of Slices with Lesions"
   ]
  },
  {
   "cell_type": "code",
   "execution_count": null,
   "metadata": {
    "hidden": true
   },
   "outputs": [],
   "source": [
    "for i in range(image_count):\n",
    "    mask = maskArray [i,:,:,:] .nonzero()\n",
    "\n",
    "    # Non zero index from different views\n",
    "    top_slices=mask[2]\n",
    "    lesion_slices_top=np.unique(top_slices)\n",
    "    num_lslices_top=len(lesion_slices_top)\n",
    "    per_top=num_lslices_top/maskArray.shape[3] * 100\n",
    "\n",
    "\n",
    "    front_slices=mask[1]\n",
    "    lesion_slices_front=np.unique(front_slices)\n",
    "    num_lslices_front=len(lesion_slices_front)\n",
    "    per_front=num_lslices_front/maskArray.shape[2] * 100\n",
    "\n",
    "    side_slices=mask[0]\n",
    "    lesion_slices_side=np.unique(side_slices)\n",
    "    num_lslices_side=len(lesion_slices_side)\n",
    "    per_side=num_lslices_side/maskArray.shape[1] * 100\n",
    "    \n",
    "    lesion_pixels[i,0] = num_lslices_top\n",
    "    lesion_pixels[i,1] = per_top\n",
    "    lesion_pixels[i,2] = num_lslices_front\n",
    "    lesion_pixels[i,3] = per_front\n",
    "    lesion_pixels[i,4] = num_lslices_side\n",
    "    lesion_pixels[i,5] = per_side"
   ]
  },
  {
   "cell_type": "code",
   "execution_count": null,
   "metadata": {
    "hidden": true
   },
   "outputs": [],
   "source": [
    "lesion_slices_table=pd.DataFrame(lesion_pixels,columns=\\\n",
    "                                 [\"Top lesion Slices\",\"Percentage with Lesion Top\",\\\n",
    "                                 \"Front Lesion Slices\",\"Percentage with Lesion Front\",\\\n",
    "                                 \"Side Lesion Slices\", \"Percentage with Lesion Side\"])"
   ]
  },
  {
   "cell_type": "code",
   "execution_count": null,
   "metadata": {
    "hidden": true
   },
   "outputs": [],
   "source": [
    "\n",
    "\n",
    "matplotlib.rcParams['font.size']=16\n",
    "n_bins=20\n",
    "\n",
    "fig, axs= plt.subplots(1,3,sharey=True, tight_layout=True, figsize=(12,5))\n",
    "\n",
    "axs[0].hist(lesion_slices_table[\"Percentage with Lesion Top\"])\n",
    "axs[0].set_xlabel('Top(%)')\n",
    "axs[0].set_ylabel('Frequency')\n",
    "axs[1].hist(lesion_slices_table[\"Percentage with Lesion Front\"])\n",
    "axs[1].set_xlabel('Front(%)')\n",
    "axs[2].hist(lesion_slices_table[\"Percentage with Lesion Side\"])\n",
    "axs[2].set_xlabel('Side(%)')\n",
    "plt.suptitle('Percentage Lesion slices per Scan by View',y=1.02)\n",
    "plt.show()"
   ]
  },
  {
   "cell_type": "code",
   "execution_count": null,
   "metadata": {
    "hidden": true
   },
   "outputs": [],
   "source": [
    "lesion_slices_table.to_csv(r'./lesion_slices.csv')"
   ]
  },
  {
   "cell_type": "markdown",
   "metadata": {
    "heading_collapsed": true
   },
   "source": [
    "### Binary Classification of Lesions"
   ]
  },
  {
   "cell_type": "markdown",
   "metadata": {
    "hidden": true
   },
   "source": [
    "The first step to using a 2D classification algorithm on MRI is to extract the scans. The first iteration extracts a single scan with Lesion and another without lesion. How do we know if a lesion image is correct? The lesion scans need to be plotted afterwards."
   ]
  },
  {
   "cell_type": "code",
   "execution_count": null,
   "metadata": {
    "hidden": true
   },
   "outputs": [],
   "source": [
    "lesion_index=np.array([])\n",
    "lesion_index=np.array(maskArray[1,:,:,:].nonzero())\n",
    "zero_slices=np.delete(imageArray[1,:,:,:],lesion_index,axis=2)\n",
    "zero_slices_mask=np.delete(maskArray[1,:,:,:],lesion_index)\n",
    "\n",
    "zero_slices.shape[2]"
   ]
  },
  {
   "cell_type": "code",
   "execution_count": null,
   "metadata": {
    "hidden": true
   },
   "outputs": [],
   "source": [
    "plt.imshow(zero_slices[:,:,65],cmap=\"Greys_r\")"
   ]
  },
  {
   "cell_type": "code",
   "execution_count": null,
   "metadata": {
    "hidden": true
   },
   "outputs": [],
   "source": [
    "# Partial data\n",
    "\n",
    "image_count=imageArray.shape[0]\n",
    "\n",
    "lesion_sections=np.zeros((image_count,197,233))\n",
    "mask_sections=np.zeros((image_count,197,233))\n",
    "lesion_sections2=np.zeros((image_count,197,233))\n",
    "mask_sections2=np.zeros((image_count,197,233))\n",
    "target1=np.zeros((image_count*2))\n",
    "\n",
    "for i in range(image_count):\n",
    "    \n",
    "    # 1. Get 3 tuples with coordinate for each dimension   \n",
    "    lesion_index=np.array(maskArray[i,:,:,:].nonzero())\n",
    "    \n",
    "     # 2. Get index of slices with lesions along the top view\n",
    "    top_index=np.unique(lesion_index[2])\n",
    "    \n",
    "    # 3. Get index of slices without lesions along top view\n",
    "    top_lf_index=np.delete(np.arange(maskArray.shape[3]),top_index,axis=0)\n",
    "    \n",
    "     \n",
    "    zero_lslices=np.delete(imageArray[i,:,:,:], top_index, axis=2)\n",
    "    # For validation\n",
    "    zero_slices_mask=np.delete(maskArray[i,:,:,:],top_index,axis=2)\n",
    "    \n",
    "    # Gives a list of coordinates with each column representing a dimension\n",
    "    zero_index=np.argwhere(maskArray[i,:,:,:]==0)\n",
    "    \n",
    "    if lesion_index.size==0:\n",
    "        lesion_sections[i,:,:]=imageArray[i,:,:,imageArray.shape[2]//2]\n",
    "        mask_sections[i,:,:]=maskArray[i,:,:,maskArray.shape[2]//2]\n",
    "        continue\n",
    "        \n",
    "    # Taking a median value from the third dimension of Lesion index\n",
    "    lesion_sections[i,:,:]=imageArray[i,:,:,int(np.median(lesion_index[2]))]\n",
    "    mask_sections[i,:,:]=maskArray[i,:,:,int(np.median(lesion_index[2]))]\n",
    "   \n",
    "    target1[i]=1\n",
    "    \n",
    "    # Median of all values in the 3rd column\n",
    "    lesion_sections2[i,:,:]=zero_lslices[:,:,zero_lslices.shape[2]//2]\n",
    "    mask_sections2[i,:,:]=zero_slices_mask[:,:,zero_slices_mask.shape[2]//2]\n",
    "    \n",
    "    scaler=StandardScaler()\n",
    "    \n",
    "    # Standardising the scans\n",
    "    lesion_sections[i,:,:]=scaler.fit_transform(lesion_sections[i,:,:])\n",
    "    lesion_sections2[i,:,:]=scaler.fit_transform(lesion_sections2[i,:,:])"
   ]
  },
  {
   "cell_type": "code",
   "execution_count": null,
   "metadata": {
    "hidden": true
   },
   "outputs": [],
   "source": [
    "lesion_sections.shape"
   ]
  },
  {
   "cell_type": "code",
   "execution_count": null,
   "metadata": {
    "hidden": true
   },
   "outputs": [],
   "source": [
    "# Checking if lesion actually extracted\n",
    "plt.subplot(121)\n",
    "plt.imshow(mask_sections2[20,:,:],cmap=\"gray\")\n",
    "plt.subplot(122)\n",
    "plt.imshow(mask_sections[20,:,:],cmap=\"gray\")\n",
    "plt.show()\n",
    "\n",
    "# This should be 0 but it's not\n",
    "print(np.sum(mask_sections2))"
   ]
  },
  {
   "cell_type": "code",
   "execution_count": null,
   "metadata": {
    "hidden": true
   },
   "outputs": [],
   "source": [
    "a=np.arange(30).reshape(3,5,2)\n",
    "\n",
    "a"
   ]
  },
  {
   "cell_type": "code",
   "execution_count": null,
   "metadata": {
    "hidden": true
   },
   "outputs": [],
   "source": [
    "\n",
    "\n",
    "train_x1=lesion_sections.reshape(220,1,197*233)\n",
    "train_x2=lesion_sections2.reshape(220,1,197*233)\n",
    "\n",
    "# turn to torch and concatenate\n",
    "\n",
    "\n",
    "train_x1=torch.from_numpy(train_x1).float()\n",
    "\n",
    "train_x2=torch.from_numpy(train_x2).float()\n",
    "train_x=torch.cat([train_x1,train_x2],dim=0)\n",
    "\n",
    "\n",
    "train_y1=target1.reshape(440,1)\n",
    "train_y=torch.from_numpy(train_y1).float()"
   ]
  },
  {
   "cell_type": "code",
   "execution_count": null,
   "metadata": {
    "hidden": true
   },
   "outputs": [],
   "source": [
    "X_train, X_test, y_train, y_test = train_test_split(train_x, train_y, test_size=0.33, random_state=69)"
   ]
  },
  {
   "cell_type": "code",
   "execution_count": null,
   "metadata": {
    "hidden": true
   },
   "outputs": [],
   "source": [
    "X_train.shape"
   ]
  },
  {
   "cell_type": "code",
   "execution_count": null,
   "metadata": {
    "hidden": true
   },
   "outputs": [],
   "source": [
    "EPOCHS = 30\n",
    "BATCH_SIZE = 48\n",
    "LEARNING_RATE = 0.001"
   ]
  },
  {
   "cell_type": "code",
   "execution_count": null,
   "metadata": {
    "hidden": true
   },
   "outputs": [],
   "source": [
    "class trainData(Dataset):\n",
    "    \n",
    "    def __init__(self, X_data, y_data):\n",
    "        self.X_data = X_data\n",
    "        self.y_data = y_data\n",
    "        \n",
    "    def __getitem__(self, index):\n",
    "        return self.X_data[index], self.y_data[index]\n",
    "        \n",
    "    def __len__ (self):\n",
    "        return len(self.X_data)\n",
    "\n",
    "\n",
    "train_data = trainData(torch.FloatTensor(X_train), \n",
    "                       torch.FloatTensor(y_train))\n",
    "## test data    \n",
    "class testData(Dataset):\n",
    "    \n",
    "    def __init__(self, X_data):\n",
    "        self.X_data = X_data\n",
    "        \n",
    "    def __getitem__(self, index):\n",
    "        return self.X_data[index]\n",
    "        \n",
    "    def __len__ (self):\n",
    "        return len(self.X_data)\n",
    "    \n",
    "\n",
    "test_data = testData(torch.FloatTensor(X_test))"
   ]
  },
  {
   "cell_type": "code",
   "execution_count": null,
   "metadata": {
    "hidden": true
   },
   "outputs": [],
   "source": [
    "train_loader = DataLoader(dataset=train_data, batch_size=BATCH_SIZE, shuffle=True)\n",
    "test_loader = DataLoader(dataset=test_data, batch_size=1)"
   ]
  },
  {
   "cell_type": "code",
   "execution_count": null,
   "metadata": {
    "hidden": true
   },
   "outputs": [],
   "source": [
    "class binaryClassification(nn.Module):\n",
    "    def __init__(self):\n",
    "        super(binaryClassification, self).__init__()\n",
    "        # Number of input features is 197*233.\n",
    "        self.layer_1 = nn.Linear(45901, 128) \n",
    "        self.layer_2 = nn.Linear(128, 64)\n",
    "        self.layer_3 = nn.Linear(64, 64)\n",
    "        self.layer_out = nn.Linear(64, 1) \n",
    "        \n",
    "        self.relu = nn.ReLU()\n",
    "        self.dropout = nn.Dropout(p=0.1)\n",
    "        self.batchnorm1 = nn.BatchNorm1d(1)\n",
    "        self.batchnorm2 = nn.BatchNorm1d(1)\n",
    "        self.batchnorm3 = nn.BatchNorm1d(1)\n",
    "        \n",
    "    def forward(self, inputs):\n",
    "        x = self.relu(self.layer_1(inputs))\n",
    "        x = self.batchnorm1(x)\n",
    "        x = self.relu(self.layer_2(x))\n",
    "        x = self.batchnorm2(x)\n",
    "        x = self.dropout(x)\n",
    "        x = self.relu(self.layer_3(x))\n",
    "        x = self.batchnorm3(x)\n",
    "        x = self.dropout(x)\n",
    "        x = self.layer_out(x)\n",
    "        \n",
    "        return x"
   ]
  },
  {
   "cell_type": "code",
   "execution_count": null,
   "metadata": {
    "hidden": true
   },
   "outputs": [],
   "source": [
    "device = torch.device(\"cuda:0\" if torch.cuda.is_available() else \"cpu\")\n",
    "#device=torch.device(\"cpu\")\n",
    "print(device)\n"
   ]
  },
  {
   "cell_type": "code",
   "execution_count": null,
   "metadata": {
    "hidden": true,
    "scrolled": true
   },
   "outputs": [],
   "source": [
    "model = binaryClassification()\n",
    "model.to(device)\n",
    "print(model)\n",
    "criterion = nn.BCEWithLogitsLoss()\n",
    "optimizer = optim.Adam(model.parameters(), lr=LEARNING_RATE)"
   ]
  },
  {
   "cell_type": "code",
   "execution_count": null,
   "metadata": {
    "hidden": true
   },
   "outputs": [],
   "source": [
    "def binary_acc(y_pred, y_test):\n",
    "    y_pred_tag = torch.round(torch.sigmoid(y_pred))\n",
    "\n",
    "    correct_results_sum = (y_pred_tag == y_test).sum().float()\n",
    "    acc = correct_results_sum/y_test.shape[0]\n",
    "    acc = torch.round(acc * 100)\n",
    "    \n",
    "    return acc"
   ]
  },
  {
   "cell_type": "code",
   "execution_count": null,
   "metadata": {
    "hidden": true
   },
   "outputs": [],
   "source": [
    "model.train()\n",
    "for e in range(1, EPOCHS+1):\n",
    "    epoch_loss = 0\n",
    "    epoch_acc = 0\n",
    "    for X_batch, y_batch in train_loader:\n",
    "        X_batch, y_batch = X_batch.to(device), y_batch.to(device)\n",
    "        optimizer.zero_grad()\n",
    "        \n",
    "        y_pred = model(X_batch)\n",
    "        \n",
    "        loss = criterion(y_pred, y_batch.unsqueeze(1))\n",
    "        acc = binary_acc(y_pred, y_batch.unsqueeze(1))\n",
    "        \n",
    "        loss.backward()\n",
    "        optimizer.step()\n",
    "        \n",
    "        epoch_loss += loss.item()\n",
    "        epoch_acc += acc.item()\n",
    "        \n",
    "\n",
    "    print(f'Epoch {e+0:03}: | Loss: {epoch_loss/len(train_loader):.5f} | Acc: {epoch_acc/len(train_loader):.3f}')"
   ]
  },
  {
   "cell_type": "code",
   "execution_count": null,
   "metadata": {
    "hidden": true
   },
   "outputs": [],
   "source": [
    "y_pred_list = []\n",
    "model.eval()\n",
    "with torch.no_grad():\n",
    "    for X_batch in test_loader:\n",
    "        X_batch = X_batch.to(device)\n",
    "        y_test_pred = model(X_batch)\n",
    "        y_test_pred = torch.sigmoid(y_test_pred)\n",
    "        y_pred_tag = torch.round(y_test_pred)\n",
    "        y_pred_list.append(y_pred_tag.cpu().numpy())\n",
    "\n",
    "y_pred_list = [a.squeeze().tolist() for a in y_pred_list]"
   ]
  },
  {
   "cell_type": "code",
   "execution_count": null,
   "metadata": {
    "hidden": true,
    "scrolled": true
   },
   "outputs": [],
   "source": [
    "confusion_matrix(y_test, y_pred_list)\n",
    "\n"
   ]
  },
  {
   "cell_type": "code",
   "execution_count": null,
   "metadata": {
    "hidden": true
   },
   "outputs": [],
   "source": [
    "cm1=confusion_matrix(y_test, y_pred_list)\n",
    "plot_confusion_matrix(cm1,(0,1))"
   ]
  },
  {
   "cell_type": "code",
   "execution_count": null,
   "metadata": {
    "hidden": true
   },
   "outputs": [],
   "source": []
  },
  {
   "cell_type": "code",
   "execution_count": null,
   "metadata": {
    "hidden": true,
    "scrolled": true
   },
   "outputs": [],
   "source": [
    "print(classification_report(y_test, y_pred_list))"
   ]
  },
  {
   "cell_type": "markdown",
   "metadata": {},
   "source": [
    "###  Binary Classification with all lesion slices\n",
    "Extracting and separating all lesions and lesion free slices top view"
   ]
  },
  {
   "cell_type": "code",
   "execution_count": 9,
   "metadata": {
    "code_folding": []
   },
   "outputs": [],
   "source": [
    "# All Slices\n",
    "\n",
    "image_count=imageArray.shape[0]\n",
    "\n",
    "\n",
    "all_lesion_slices=np.array([])\n",
    "all_zero_slices=np.array([])\n",
    "\n",
    "all_lesion_masks=np.array([])\n",
    "\n",
    "\n",
    "zero_sum=0\n",
    "\n",
    "for i in range(image_count):\n",
    "    \n",
    "    # 1. Get 3 tuples with coordinate for each dimension   \n",
    "    lesion_index=np.array(maskArray[i,:,:,:].nonzero())\n",
    "    \n",
    "    # 2. Get index of slices with lesions along the top view\n",
    "    top_index=np.unique(lesion_index[2])\n",
    "    \n",
    "    # 3. Get index of slices without lesions along top view\n",
    "    top_lf_index=np.delete(np.arange(maskArray.shape[3]),top_index,axis=0)\n",
    "    \n",
    "    # 4. Create a scan with lesion and lesion free slices with the top view    \n",
    "    zero_slices =imageArray[i,:,:,top_lf_index]    \n",
    "    lesion_slices=imageArray[i,:,:,top_index]\n",
    "    lesion_masks=maskArray[i,:,:,top_index]\n",
    "\n",
    "    \n",
    "    # 5. Zero mask sum for validation- all zero slice masks should = 0 \n",
    "    zero_sum+=np.sum(maskArray[i,:,:,top_lf_index])\n",
    "    \n",
    "    # All lesion slices top view combined\n",
    "    all_lesion_slices=np.concatenate((all_lesion_slices, lesion_slices), axis=0)\\\n",
    "    if all_lesion_slices.size else lesion_slices\n",
    "    \n",
    "    all_zero_slices=np.concatenate((all_zero_slices, zero_slices), axis=0)\\\n",
    "    if all_zero_slices.size else zero_slices\n",
    "    \n",
    "    # All lesion masks top view combined\n",
    "    all_lesion_masks=np.concatenate((all_lesion_masks, lesion_masks), axis=0)\\\n",
    "    if all_lesion_masks.size else lesion_masks\n",
    "    \n",
    "\n",
    "     \n",
    "    \n",
    "  \n",
    "    \n",
    "    "
   ]
  },
  {
   "cell_type": "code",
   "execution_count": null,
   "metadata": {},
   "outputs": [],
   "source": [
    "print(f\"all lesion slices: {all_lesion_slices.shape}, all_zero_slices: {all_zero_slices.shape}\")"
   ]
  },
  {
   "cell_type": "code",
   "execution_count": 10,
   "metadata": {},
   "outputs": [],
   "source": [
    "# Xval formulation\n",
    "l_slice_num=all_lesion_slices.shape[0]\n",
    "target1=np.ones(l_slice_num)\n",
    "\n",
    "zero_slice_num=all_zero_slices.shape[0]//3 + 1\n",
    "target2=np.zeros(zero_slice_num)\n",
    "\n",
    "target=np.concatenate((target1,target2),axis=0)\n",
    "\n",
    "train_x1=all_lesion_slices.reshape(l_slice_num,1,197*233)\n",
    "train_x2=all_zero_slices[::3,:,:].reshape(zero_slice_num,1,197*233)\n",
    "\n",
    "\n",
    "\n",
    "\n",
    "# turn to torch and concatenate afterwards\n",
    "\n",
    "\n",
    "train_x1=torch.from_numpy(train_x1).float()\n",
    "\n",
    "train_x2=torch.from_numpy(train_x2).float()\n",
    "train_x=torch.cat([train_x1,train_x2],dim=0)\n",
    "\n",
    "zeros_x2=torch.zeros_like(train_x2)\n",
    "\n",
    "# means = train_x.mean(dim=1, keepdim=True)\n",
    "# stds = train_x.std(dim=1, keepdim=True)\n",
    "# normalized_data = (train_x - means) / stds\n",
    "# train_x=normalized_data\n",
    "\n",
    "train_y1=target.reshape(len(target),1)\n",
    "train_y=torch.from_numpy(train_y1).float()"
   ]
  },
  {
   "cell_type": "code",
   "execution_count": null,
   "metadata": {},
   "outputs": [],
   "source": [
    "X_train, X_test, y_train, y_test = train_test_split(train_x, train_y, test_size=0.2, random_state=69)\n",
    "#X_train, X_val,y_train, y_val = train_test_split(X_train, y_train, test_size=0.2, random_state=69)"
   ]
  },
  {
   "cell_type": "code",
   "execution_count": 11,
   "metadata": {},
   "outputs": [],
   "source": [
    "mask_x1=all_lesion_masks.reshape(l_slice_num,1,197*233)"
   ]
  },
  {
   "cell_type": "code",
   "execution_count": 12,
   "metadata": {},
   "outputs": [],
   "source": [
    "# creating a mask array for later illustration\n",
    "\n",
    "mask_x1=torch.from_numpy(mask_x1).float()\n",
    "mask_x=torch.cat([mask_x1,zeros_x2],dim=0)"
   ]
  },
  {
   "cell_type": "code",
   "execution_count": 29,
   "metadata": {},
   "outputs": [],
   "source": [
    "# To free up RAM\n",
    "all_lesion_slices=[]\n",
    "all_zero_slices=[]\n",
    "all_lesion_masks=[]"
   ]
  },
  {
   "cell_type": "code",
   "execution_count": null,
   "metadata": {},
   "outputs": [],
   "source": [
    "print(train_x.shape)"
   ]
  },
  {
   "cell_type": "code",
   "execution_count": 13,
   "metadata": {},
   "outputs": [
    {
     "name": "stdout",
     "output_type": "stream",
     "text": [
      "TRAIN: [    0     1     2 ... 19950 19953 19954] TEST: [    3     8     9 ... 19951 19952 19955]\n",
      "TRAIN: [    0     1     2 ... 19952 19954 19955] TEST: [    6     7    11 ... 19938 19947 19953]\n",
      "TRAIN: [    0     1     2 ... 19953 19954 19955] TEST: [    5    15    17 ... 19940 19942 19945]\n",
      "TRAIN: [    1     2     3 ... 19953 19954 19955] TEST: [    0     4    12 ... 19946 19949 19950]\n",
      "TRAIN: [    0     3     4 ... 19952 19953 19955] TEST: [    1     2    10 ... 19933 19937 19954]\n"
     ]
    }
   ],
   "source": [
    "kfold=KFold(shuffle=True)\n",
    "train_index_list=[]\n",
    "test_index_list=[]\n",
    "for train_index,test_index in kfold.split(train_x, train_y):\n",
    "    print(\"TRAIN:\", train_index, \"TEST:\", test_index)\n",
    "    train_index_list.append(train_index)\n",
    "    test_index_list.append(test_index)\n",
    "\n",
    "    "
   ]
  },
  {
   "cell_type": "code",
   "execution_count": 14,
   "metadata": {},
   "outputs": [],
   "source": [
    "X_train=train_x[train_index_list[0]]\n",
    "y_train=train_y[train_index_list[0]]\n",
    "X_test=train_x[test_index_list[0]]\n",
    "y_test=train_y[test_index_list[0]]\n",
    "\n",
    "# mask for illustration\n",
    "\n",
    "mask_train=mask_x[train_index_list[0]]\n",
    "mask_test=mask_x[test_index_list[0]]"
   ]
  },
  {
   "cell_type": "code",
   "execution_count": null,
   "metadata": {},
   "outputs": [],
   "source": [
    "train_index_list.shape"
   ]
  },
  {
   "cell_type": "markdown",
   "metadata": {},
   "source": [
    "#### Code block for CrossVal"
   ]
  },
  {
   "cell_type": "markdown",
   "metadata": {},
   "source": [
    "*Make sure to run the code blocks for Binary classification below before running this*"
   ]
  },
  {
   "cell_type": "code",
   "execution_count": 43,
   "metadata": {
    "code_folding": [],
    "scrolled": true
   },
   "outputs": [
    {
     "name": "stdout",
     "output_type": "stream",
     "text": [
      "binaryClassification(\n",
      "  (layer_1): Linear(in_features=45901, out_features=128, bias=True)\n",
      "  (layer_2): Linear(in_features=128, out_features=64, bias=True)\n",
      "  (layer_3): Linear(in_features=64, out_features=64, bias=True)\n",
      "  (layer_out): Linear(in_features=64, out_features=1, bias=True)\n",
      "  (relu): ReLU()\n",
      "  (dropout): Dropout(p=0.1, inplace=False)\n",
      "  (batchnorm1): BatchNorm1d(1, eps=1e-05, momentum=0.1, affine=True, track_running_stats=True)\n",
      "  (batchnorm2): BatchNorm1d(1, eps=1e-05, momentum=0.1, affine=True, track_running_stats=True)\n",
      "  (batchnorm3): BatchNorm1d(1, eps=1e-05, momentum=0.1, affine=True, track_running_stats=True)\n",
      ")\n",
      "Epoch 001: | Loss: 0.47225 | Acc: 77.060\n",
      "Epoch 002: | Loss: 0.39946 | Acc: 82.032\n",
      "Epoch 003: | Loss: 0.35998 | Acc: 84.261\n",
      "Epoch 004: | Loss: 0.31840 | Acc: 86.786\n",
      "Epoch 005: | Loss: 0.29233 | Acc: 87.968\n",
      "Epoch 006: | Loss: 0.26192 | Acc: 89.397\n",
      "Epoch 007: | Loss: 0.24640 | Acc: 89.806\n",
      "Epoch 008: | Loss: 0.21842 | Acc: 91.273\n",
      "Epoch 009: | Loss: 0.20731 | Acc: 91.970\n",
      "Epoch 010: | Loss: 0.18410 | Acc: 92.822\n",
      "Epoch 011: | Loss: 0.15195 | Acc: 94.413\n",
      "Epoch 012: | Loss: 0.13947 | Acc: 94.904\n",
      "Epoch 013: | Loss: 0.12993 | Acc: 95.108\n",
      "Epoch 014: | Loss: 0.11963 | Acc: 95.629\n",
      "Epoch 015: | Loss: 0.12011 | Acc: 95.671\n",
      "Epoch 016: | Loss: 0.10375 | Acc: 96.399\n",
      "Epoch 017: | Loss: 0.08974 | Acc: 96.806\n",
      "Epoch 018: | Loss: 0.07752 | Acc: 97.477\n",
      "Epoch 019: | Loss: 0.07964 | Acc: 97.078\n",
      "Epoch 020: | Loss: 0.07856 | Acc: 97.281\n",
      "Epoch 021: | Loss: 0.07262 | Acc: 97.515\n",
      "Epoch 022: | Loss: 0.07295 | Acc: 97.479\n",
      "Epoch 023: | Loss: 0.07024 | Acc: 97.643\n",
      "Epoch 024: | Loss: 0.07595 | Acc: 97.359\n",
      "Epoch 025: | Loss: 0.06574 | Acc: 97.659\n",
      "Epoch 026: | Loss: 0.06423 | Acc: 97.798\n",
      "Epoch 027: | Loss: 0.06056 | Acc: 97.834\n",
      "Epoch 028: | Loss: 0.05605 | Acc: 98.040\n",
      "Epoch 029: | Loss: 0.05757 | Acc: 98.100\n",
      "Epoch 030: | Loss: 0.05488 | Acc: 98.176\n",
      "binaryClassification(\n",
      "  (layer_1): Linear(in_features=45901, out_features=128, bias=True)\n",
      "  (layer_2): Linear(in_features=128, out_features=64, bias=True)\n",
      "  (layer_3): Linear(in_features=64, out_features=64, bias=True)\n",
      "  (layer_out): Linear(in_features=64, out_features=1, bias=True)\n",
      "  (relu): ReLU()\n",
      "  (dropout): Dropout(p=0.1, inplace=False)\n",
      "  (batchnorm1): BatchNorm1d(1, eps=1e-05, momentum=0.1, affine=True, track_running_stats=True)\n",
      "  (batchnorm2): BatchNorm1d(1, eps=1e-05, momentum=0.1, affine=True, track_running_stats=True)\n",
      "  (batchnorm3): BatchNorm1d(1, eps=1e-05, momentum=0.1, affine=True, track_running_stats=True)\n",
      ")\n",
      "Epoch 001: | Loss: 0.46964 | Acc: 77.337\n",
      "Epoch 002: | Loss: 0.40281 | Acc: 81.637\n",
      "Epoch 003: | Loss: 0.36051 | Acc: 84.120\n",
      "Epoch 004: | Loss: 0.32708 | Acc: 86.012\n",
      "Epoch 005: | Loss: 0.29642 | Acc: 87.445\n",
      "Epoch 006: | Loss: 0.26304 | Acc: 88.808\n",
      "Epoch 007: | Loss: 0.23144 | Acc: 90.794\n",
      "Epoch 008: | Loss: 0.20597 | Acc: 91.838\n",
      "Epoch 009: | Loss: 0.19178 | Acc: 92.649\n",
      "Epoch 010: | Loss: 0.17198 | Acc: 93.391\n",
      "Epoch 011: | Loss: 0.16565 | Acc: 93.579\n",
      "Epoch 012: | Loss: 0.14629 | Acc: 94.559\n",
      "Epoch 013: | Loss: 0.13884 | Acc: 94.926\n",
      "Epoch 014: | Loss: 0.12098 | Acc: 95.667\n",
      "Epoch 015: | Loss: 0.10062 | Acc: 96.251\n",
      "Epoch 016: | Loss: 0.11322 | Acc: 95.852\n",
      "Epoch 017: | Loss: 0.10653 | Acc: 96.148\n",
      "Epoch 018: | Loss: 0.09103 | Acc: 96.663\n",
      "Epoch 019: | Loss: 0.10278 | Acc: 96.319\n",
      "Epoch 020: | Loss: 0.08000 | Acc: 97.146\n",
      "Epoch 021: | Loss: 0.08070 | Acc: 97.166\n",
      "Epoch 022: | Loss: 0.08224 | Acc: 96.952\n",
      "Epoch 023: | Loss: 0.07685 | Acc: 97.222\n",
      "Epoch 024: | Loss: 0.08333 | Acc: 97.124\n",
      "Epoch 025: | Loss: 0.07276 | Acc: 97.433\n",
      "Epoch 026: | Loss: 0.05565 | Acc: 98.056\n",
      "Epoch 027: | Loss: 0.06748 | Acc: 97.523\n",
      "Epoch 028: | Loss: 0.05734 | Acc: 97.926\n",
      "Epoch 029: | Loss: 0.06048 | Acc: 97.890\n",
      "Epoch 030: | Loss: 0.05214 | Acc: 98.226\n",
      "binaryClassification(\n",
      "  (layer_1): Linear(in_features=45901, out_features=128, bias=True)\n",
      "  (layer_2): Linear(in_features=128, out_features=64, bias=True)\n",
      "  (layer_3): Linear(in_features=64, out_features=64, bias=True)\n",
      "  (layer_out): Linear(in_features=64, out_features=1, bias=True)\n",
      "  (relu): ReLU()\n",
      "  (dropout): Dropout(p=0.1, inplace=False)\n",
      "  (batchnorm1): BatchNorm1d(1, eps=1e-05, momentum=0.1, affine=True, track_running_stats=True)\n",
      "  (batchnorm2): BatchNorm1d(1, eps=1e-05, momentum=0.1, affine=True, track_running_stats=True)\n",
      "  (batchnorm3): BatchNorm1d(1, eps=1e-05, momentum=0.1, affine=True, track_running_stats=True)\n",
      ")\n",
      "Epoch 001: | Loss: 0.47183 | Acc: 77.176\n",
      "Epoch 002: | Loss: 0.38920 | Acc: 82.689\n",
      "Epoch 003: | Loss: 0.35089 | Acc: 84.417\n",
      "Epoch 004: | Loss: 0.30787 | Acc: 86.772\n",
      "Epoch 005: | Loss: 0.27648 | Acc: 88.106\n",
      "Epoch 006: | Loss: 0.24911 | Acc: 89.495\n",
      "Epoch 007: | Loss: 0.22412 | Acc: 90.784\n",
      "Epoch 008: | Loss: 0.20467 | Acc: 91.768\n",
      "Epoch 009: | Loss: 0.18750 | Acc: 92.521\n",
      "Epoch 010: | Loss: 0.17264 | Acc: 93.148\n",
      "Epoch 011: | Loss: 0.15621 | Acc: 93.898\n",
      "Epoch 012: | Loss: 0.14098 | Acc: 94.487\n",
      "Epoch 013: | Loss: 0.13165 | Acc: 94.970\n",
      "Epoch 014: | Loss: 0.12000 | Acc: 95.467\n",
      "Epoch 015: | Loss: 0.11419 | Acc: 95.774\n",
      "Epoch 016: | Loss: 0.10563 | Acc: 96.152\n",
      "Epoch 017: | Loss: 0.09893 | Acc: 96.469\n",
      "Epoch 018: | Loss: 0.09396 | Acc: 96.619\n",
      "Epoch 019: | Loss: 0.08132 | Acc: 97.068\n",
      "Epoch 020: | Loss: 0.07804 | Acc: 97.170\n",
      "Epoch 021: | Loss: 0.07138 | Acc: 97.435\n",
      "Epoch 022: | Loss: 0.06863 | Acc: 97.537\n",
      "Epoch 023: | Loss: 0.07118 | Acc: 97.521\n",
      "Epoch 024: | Loss: 0.05414 | Acc: 98.050\n",
      "Epoch 025: | Loss: 0.06403 | Acc: 97.697\n",
      "Epoch 026: | Loss: 0.05525 | Acc: 98.048\n",
      "Epoch 027: | Loss: 0.05322 | Acc: 98.100\n",
      "Epoch 028: | Loss: 0.05335 | Acc: 98.034\n",
      "Epoch 029: | Loss: 0.04884 | Acc: 98.230\n",
      "Epoch 030: | Loss: 0.05107 | Acc: 98.180\n",
      "binaryClassification(\n",
      "  (layer_1): Linear(in_features=45901, out_features=128, bias=True)\n",
      "  (layer_2): Linear(in_features=128, out_features=64, bias=True)\n",
      "  (layer_3): Linear(in_features=64, out_features=64, bias=True)\n",
      "  (layer_out): Linear(in_features=64, out_features=1, bias=True)\n",
      "  (relu): ReLU()\n",
      "  (dropout): Dropout(p=0.1, inplace=False)\n",
      "  (batchnorm1): BatchNorm1d(1, eps=1e-05, momentum=0.1, affine=True, track_running_stats=True)\n",
      "  (batchnorm2): BatchNorm1d(1, eps=1e-05, momentum=0.1, affine=True, track_running_stats=True)\n",
      "  (batchnorm3): BatchNorm1d(1, eps=1e-05, momentum=0.1, affine=True, track_running_stats=True)\n",
      ")\n",
      "Epoch 001: | Loss: 0.47525 | Acc: 76.886\n",
      "Epoch 002: | Loss: 0.41638 | Acc: 81.044\n",
      "Epoch 003: | Loss: 0.37950 | Acc: 83.108\n",
      "Epoch 004: | Loss: 0.34632 | Acc: 85.273\n",
      "Epoch 005: | Loss: 0.31856 | Acc: 86.333\n",
      "Epoch 006: | Loss: 0.28977 | Acc: 87.741\n",
      "Epoch 007: | Loss: 0.26932 | Acc: 88.741\n",
      "Epoch 008: | Loss: 0.24911 | Acc: 89.794\n",
      "Epoch 009: | Loss: 0.21698 | Acc: 91.697\n",
      "Epoch 010: | Loss: 0.19470 | Acc: 92.439\n",
      "Epoch 011: | Loss: 0.17707 | Acc: 93.285\n",
      "Epoch 012: | Loss: 0.16707 | Acc: 93.655\n",
      "Epoch 013: | Loss: 0.14655 | Acc: 94.764\n",
      "Epoch 014: | Loss: 0.13938 | Acc: 94.922\n",
      "Epoch 015: | Loss: 0.14562 | Acc: 94.629\n",
      "Epoch 016: | Loss: 0.12127 | Acc: 95.597\n",
      "Epoch 017: | Loss: 0.10333 | Acc: 96.301\n",
      "Epoch 018: | Loss: 0.10850 | Acc: 96.022\n",
      "Epoch 019: | Loss: 0.10056 | Acc: 96.337\n",
      "Epoch 020: | Loss: 0.09717 | Acc: 96.399\n",
      "Epoch 021: | Loss: 0.08454 | Acc: 96.848\n",
      "Epoch 022: | Loss: 0.08247 | Acc: 97.170\n",
      "Epoch 023: | Loss: 0.07430 | Acc: 97.345\n",
      "Epoch 024: | Loss: 0.07727 | Acc: 97.377\n",
      "Epoch 025: | Loss: 0.06923 | Acc: 97.641\n",
      "Epoch 026: | Loss: 0.06369 | Acc: 97.824\n",
      "Epoch 027: | Loss: 0.09319 | Acc: 96.792\n",
      "Epoch 028: | Loss: 0.08133 | Acc: 97.012\n",
      "Epoch 029: | Loss: 0.07535 | Acc: 97.319\n",
      "Epoch 030: | Loss: 0.06065 | Acc: 97.960\n",
      "binaryClassification(\n",
      "  (layer_1): Linear(in_features=45901, out_features=128, bias=True)\n",
      "  (layer_2): Linear(in_features=128, out_features=64, bias=True)\n",
      "  (layer_3): Linear(in_features=64, out_features=64, bias=True)\n",
      "  (layer_out): Linear(in_features=64, out_features=1, bias=True)\n",
      "  (relu): ReLU()\n",
      "  (dropout): Dropout(p=0.1, inplace=False)\n",
      "  (batchnorm1): BatchNorm1d(1, eps=1e-05, momentum=0.1, affine=True, track_running_stats=True)\n",
      "  (batchnorm2): BatchNorm1d(1, eps=1e-05, momentum=0.1, affine=True, track_running_stats=True)\n",
      "  (batchnorm3): BatchNorm1d(1, eps=1e-05, momentum=0.1, affine=True, track_running_stats=True)\n",
      ")\n",
      "Epoch 001: | Loss: 0.47124 | Acc: 77.178\n",
      "Epoch 002: | Loss: 0.40228 | Acc: 81.884\n",
      "Epoch 003: | Loss: 0.35675 | Acc: 84.321\n"
     ]
    },
    {
     "name": "stdout",
     "output_type": "stream",
     "text": [
      "Epoch 004: | Loss: 0.31838 | Acc: 86.160\n",
      "Epoch 005: | Loss: 0.28506 | Acc: 87.649\n",
      "Epoch 006: | Loss: 0.26481 | Acc: 88.870\n",
      "Epoch 007: | Loss: 0.23651 | Acc: 90.010\n",
      "Epoch 008: | Loss: 0.22559 | Acc: 90.541\n",
      "Epoch 009: | Loss: 0.19629 | Acc: 92.102\n",
      "Epoch 010: | Loss: 0.18097 | Acc: 92.745\n",
      "Epoch 011: | Loss: 0.15473 | Acc: 94.088\n",
      "Epoch 012: | Loss: 0.13801 | Acc: 94.623\n",
      "Epoch 013: | Loss: 0.12471 | Acc: 95.319\n",
      "Epoch 014: | Loss: 0.12194 | Acc: 95.403\n",
      "Epoch 015: | Loss: 0.10744 | Acc: 95.814\n",
      "Epoch 016: | Loss: 0.09659 | Acc: 96.311\n",
      "Epoch 017: | Loss: 0.09062 | Acc: 96.679\n",
      "Epoch 018: | Loss: 0.08927 | Acc: 96.786\n",
      "Epoch 019: | Loss: 0.07813 | Acc: 97.218\n",
      "Epoch 020: | Loss: 0.07175 | Acc: 97.427\n",
      "Epoch 021: | Loss: 0.08034 | Acc: 96.972\n",
      "Epoch 022: | Loss: 0.06873 | Acc: 97.595\n",
      "Epoch 023: | Loss: 0.05478 | Acc: 98.172\n",
      "Epoch 024: | Loss: 0.06121 | Acc: 97.758\n",
      "Epoch 025: | Loss: 0.06078 | Acc: 97.792\n",
      "Epoch 026: | Loss: 0.05612 | Acc: 98.000\n",
      "Epoch 027: | Loss: 0.05827 | Acc: 97.816\n",
      "Epoch 028: | Loss: 0.05627 | Acc: 97.994\n",
      "Epoch 029: | Loss: 0.05857 | Acc: 97.972\n",
      "Epoch 030: | Loss: 0.04344 | Acc: 98.499\n"
     ]
    }
   ],
   "source": [
    "# Cross validation loops\n",
    "reports=[]\n",
    "c_matrix=[]\n",
    "for fold in range(len(train_index_list)):\n",
    "    X_train=train_x[train_index_list[fold]]\n",
    "    y_train=train_y[train_index_list[fold]]\n",
    "    X_test=train_x[test_index_list[fold]]\n",
    "    y_test=train_y[test_index_list[fold]]\n",
    "    \n",
    "    EPOCHS = 30\n",
    "    BATCH_SIZE = 32\n",
    "    LEARNING_RATE = 0.01\n",
    "    \n",
    "    train_data = trainData(torch.FloatTensor(X_train), \n",
    "                       torch.FloatTensor(y_train))\n",
    "    test_data = testData(torch.FloatTensor(X_test))\n",
    "    \n",
    "    train_loader = DataLoader(dataset=train_data, batch_size=BATCH_SIZE, shuffle=True)\n",
    "    test_loader = DataLoader(dataset=test_data, batch_size=1)\n",
    "    \n",
    "    device = torch.device(\"cuda:0\" if torch.cuda.is_available() else \"cpu\")\n",
    "    \n",
    "    model = binaryClassification()\n",
    "    model.to(device)\n",
    "    print(model)\n",
    "    criterion = nn.BCEWithLogitsLoss()\n",
    "    optimizer = optim.Adam(model.parameters(), lr=LEARNING_RATE)\n",
    "    \n",
    "    model.train()\n",
    "    \n",
    "    for e in range(1, EPOCHS+1):\n",
    "        epoch_loss = 0\n",
    "        epoch_acc = 0\n",
    "        for X_batch, y_batch in train_loader:\n",
    "            X_batch, y_batch = X_batch.to(device), y_batch.to(device)\n",
    "            optimizer.zero_grad()\n",
    "\n",
    "            y_pred = model(X_batch)\n",
    "\n",
    "            loss = criterion(y_pred, y_batch.unsqueeze(1))\n",
    "            acc = binary_acc(y_pred, y_batch.unsqueeze(1))\n",
    "\n",
    "            loss.backward()\n",
    "            optimizer.step()\n",
    "\n",
    "            epoch_loss += loss.item()\n",
    "            epoch_acc += acc.item()\n",
    "\n",
    "\n",
    "        print(f'Epoch {e+0:03}: | Loss: {epoch_loss/len(train_loader):.5f} | Acc: {epoch_acc/len(train_loader):.3f}')\n",
    "    \n",
    "    y_pred_list = []\n",
    "    tested_x=[]\n",
    "    model.eval()\n",
    "    with torch.no_grad():\n",
    "        for X_batch in test_loader:\n",
    "            X_batch = X_batch.to(device)\n",
    "            y_test_pred = model(X_batch)\n",
    "            y_test_pred = torch.sigmoid(y_test_pred)\n",
    "            y_pred_tag = torch.round(y_test_pred)\n",
    "            y_pred_list.append(y_pred_tag.cpu().numpy())\n",
    "            tested_x.append(X_batch.cpu().numpy())\n",
    "\n",
    "    y_pred_list = [a.squeeze().tolist() for a in y_pred_list]\n",
    "    \n",
    "    cm=confusion_matrix(y_test, y_pred_list)\n",
    "    result=classification_report(y_test, y_pred_list,output_dict=True)\n",
    "    reports.append(result)\n",
    "    c_matrix.append(cm)\n"
   ]
  },
  {
   "cell_type": "markdown",
   "metadata": {},
   "source": [
    "#### CrossVal results"
   ]
  },
  {
   "cell_type": "code",
   "execution_count": null,
   "metadata": {},
   "outputs": [],
   "source": [
    "print(result)"
   ]
  },
  {
   "cell_type": "code",
   "execution_count": null,
   "metadata": {
    "scrolled": false
   },
   "outputs": [],
   "source": [
    "print(reports[0])"
   ]
  },
  {
   "cell_type": "code",
   "execution_count": 44,
   "metadata": {},
   "outputs": [],
   "source": [
    "# Dataframe for all results\n",
    "all_runs=pd.DataFrame(reports[0])\n",
    "all_runs1=pd.DataFrame(reports[1])\n",
    "all_runs2=pd.DataFrame(reports[2])\n",
    "all_runs3=pd.DataFrame(reports[3])\n",
    "all_runs4=pd.DataFrame(reports[4])"
   ]
  },
  {
   "cell_type": "code",
   "execution_count": 45,
   "metadata": {},
   "outputs": [],
   "source": [
    "all_runs_sum=all_runs+all_runs1+all_runs2+all_runs3+all_runs4"
   ]
  },
  {
   "cell_type": "code",
   "execution_count": 46,
   "metadata": {},
   "outputs": [
    {
     "data": {
      "text/html": [
       "<div>\n",
       "<style scoped>\n",
       "    .dataframe tbody tr th:only-of-type {\n",
       "        vertical-align: middle;\n",
       "    }\n",
       "\n",
       "    .dataframe tbody tr th {\n",
       "        vertical-align: top;\n",
       "    }\n",
       "\n",
       "    .dataframe thead th {\n",
       "        text-align: right;\n",
       "    }\n",
       "</style>\n",
       "<table border=\"1\" class=\"dataframe\">\n",
       "  <thead>\n",
       "    <tr style=\"text-align: right;\">\n",
       "      <th></th>\n",
       "      <th>0.0</th>\n",
       "      <th>1.0</th>\n",
       "      <th>accuracy</th>\n",
       "      <th>macro avg</th>\n",
       "      <th>weighted avg</th>\n",
       "    </tr>\n",
       "  </thead>\n",
       "  <tbody>\n",
       "    <tr>\n",
       "      <th>precision</th>\n",
       "      <td>0.931655</td>\n",
       "      <td>0.916617</td>\n",
       "      <td>0.919173</td>\n",
       "      <td>0.924136</td>\n",
       "      <td>0.924795</td>\n",
       "    </tr>\n",
       "    <tr>\n",
       "      <th>recall</th>\n",
       "      <td>0.924157</td>\n",
       "      <td>0.913325</td>\n",
       "      <td>0.919173</td>\n",
       "      <td>0.918741</td>\n",
       "      <td>0.919173</td>\n",
       "    </tr>\n",
       "    <tr>\n",
       "      <th>f1-score</th>\n",
       "      <td>0.925168</td>\n",
       "      <td>0.911359</td>\n",
       "      <td>0.919173</td>\n",
       "      <td>0.918263</td>\n",
       "      <td>0.918845</td>\n",
       "    </tr>\n",
       "    <tr>\n",
       "      <th>support</th>\n",
       "      <td>2162.600000</td>\n",
       "      <td>1828.600000</td>\n",
       "      <td>0.919173</td>\n",
       "      <td>3991.200000</td>\n",
       "      <td>3991.200000</td>\n",
       "    </tr>\n",
       "  </tbody>\n",
       "</table>\n",
       "</div>"
      ],
      "text/plain": [
       "                   0.0          1.0  accuracy    macro avg  weighted avg\n",
       "precision     0.931655     0.916617  0.919173     0.924136      0.924795\n",
       "recall        0.924157     0.913325  0.919173     0.918741      0.919173\n",
       "f1-score      0.925168     0.911359  0.919173     0.918263      0.918845\n",
       "support    2162.600000  1828.600000  0.919173  3991.200000   3991.200000"
      ]
     },
     "execution_count": 46,
     "metadata": {},
     "output_type": "execute_result"
    }
   ],
   "source": [
    "all_runs_ave=all_runs_sum/5\n",
    "\n",
    "all_runs_ave"
   ]
  },
  {
   "cell_type": "markdown",
   "metadata": {},
   "source": [
    "#### Binary classifier"
   ]
  },
  {
   "cell_type": "code",
   "execution_count": 15,
   "metadata": {},
   "outputs": [],
   "source": [
    "EPOCHS = 30\n",
    "BATCH_SIZE = 32\n",
    "LEARNING_RATE = 0.01"
   ]
  },
  {
   "cell_type": "code",
   "execution_count": 16,
   "metadata": {
    "code_folding": []
   },
   "outputs": [],
   "source": [
    "class trainData(Dataset):\n",
    "    \n",
    "    def __init__(self, X_data, y_data):\n",
    "        self.X_data = X_data\n",
    "        self.y_data = y_data\n",
    "        \n",
    "    def __getitem__(self, index):\n",
    "        return self.X_data[index], self.y_data[index]\n",
    "        \n",
    "    def __len__ (self):\n",
    "        return len(self.X_data)\n",
    "\n",
    "\n",
    "\n",
    "## test data    \n",
    "class testData(Dataset):\n",
    "    \n",
    "    def __init__(self, X_data):\n",
    "        self.X_data = X_data\n",
    "        \n",
    "    def __getitem__(self, index):\n",
    "        return self.X_data[index]\n",
    "        \n",
    "    def __len__ (self):\n",
    "        return len(self.X_data)\n",
    "    \n"
   ]
  },
  {
   "cell_type": "code",
   "execution_count": 17,
   "metadata": {},
   "outputs": [],
   "source": [
    "train_data = trainData(torch.FloatTensor(X_train), \n",
    "                       torch.FloatTensor(y_train))\n",
    "\n",
    "test_data = testData(torch.FloatTensor(X_test))"
   ]
  },
  {
   "cell_type": "code",
   "execution_count": 18,
   "metadata": {},
   "outputs": [],
   "source": [
    "train_loader = DataLoader(dataset=train_data, batch_size=BATCH_SIZE, shuffle=True)\n",
    "test_loader = DataLoader(dataset=test_data, batch_size=1)"
   ]
  },
  {
   "cell_type": "code",
   "execution_count": 19,
   "metadata": {
    "code_folding": []
   },
   "outputs": [],
   "source": [
    "class binaryClassification(nn.Module):\n",
    "    def __init__(self):\n",
    "        super(binaryClassification, self).__init__()\n",
    "        # Number of input features is 197*233.\n",
    "        self.layer_1 = nn.Linear(45901, 128) \n",
    "        self.layer_2 = nn.Linear(128, 64)\n",
    "        self.layer_3 = nn.Linear(64, 64)\n",
    "        self.layer_out = nn.Linear(64, 1) \n",
    "        \n",
    "        self.relu = nn.ReLU()\n",
    "        self.dropout = nn.Dropout(p=0.1)\n",
    "        self.batchnorm1 = nn.BatchNorm1d(1)\n",
    "        self.batchnorm2 = nn.BatchNorm1d(1)\n",
    "        self.batchnorm3 = nn.BatchNorm1d(1)\n",
    "        \n",
    "    def forward(self, inputs):\n",
    "        x = self.relu(self.layer_1(inputs))\n",
    "        x = self.batchnorm1(x)\n",
    "        x = self.relu(self.layer_2(x))\n",
    "        x = self.batchnorm2(x)\n",
    "        x = self.dropout(x)\n",
    "        x = self.relu(self.layer_3(x))\n",
    "        x = self.batchnorm3(x)\n",
    "        x = self.dropout(x)\n",
    "        x = self.layer_out(x)\n",
    "        \n",
    "        return x"
   ]
  },
  {
   "cell_type": "code",
   "execution_count": 20,
   "metadata": {},
   "outputs": [
    {
     "name": "stdout",
     "output_type": "stream",
     "text": [
      "cuda:0\n"
     ]
    }
   ],
   "source": [
    "device = torch.device(\"cuda:0\" if torch.cuda.is_available() else \"cpu\")\n",
    "#device=torch.device(\"cpu\")\n",
    "print(device)\n"
   ]
  },
  {
   "cell_type": "code",
   "execution_count": 21,
   "metadata": {
    "scrolled": true
   },
   "outputs": [
    {
     "name": "stdout",
     "output_type": "stream",
     "text": [
      "binaryClassification(\n",
      "  (layer_1): Linear(in_features=45901, out_features=128, bias=True)\n",
      "  (layer_2): Linear(in_features=128, out_features=64, bias=True)\n",
      "  (layer_3): Linear(in_features=64, out_features=64, bias=True)\n",
      "  (layer_out): Linear(in_features=64, out_features=1, bias=True)\n",
      "  (relu): ReLU()\n",
      "  (dropout): Dropout(p=0.1, inplace=False)\n",
      "  (batchnorm1): BatchNorm1d(1, eps=1e-05, momentum=0.1, affine=True, track_running_stats=True)\n",
      "  (batchnorm2): BatchNorm1d(1, eps=1e-05, momentum=0.1, affine=True, track_running_stats=True)\n",
      "  (batchnorm3): BatchNorm1d(1, eps=1e-05, momentum=0.1, affine=True, track_running_stats=True)\n",
      ")\n"
     ]
    }
   ],
   "source": [
    "model = binaryClassification()\n",
    "model.to(device)\n",
    "print(model)\n",
    "criterion = nn.BCEWithLogitsLoss()\n",
    "optimizer = optim.Adam(model.parameters(), lr=LEARNING_RATE)"
   ]
  },
  {
   "cell_type": "code",
   "execution_count": 22,
   "metadata": {
    "code_folding": []
   },
   "outputs": [],
   "source": [
    "def binary_acc(y_pred, y_test):\n",
    "    y_pred_tag = torch.round(torch.sigmoid(y_pred))\n",
    "\n",
    "    correct_results_sum = (y_pred_tag == y_test).sum().float()\n",
    "    acc = correct_results_sum/y_test.shape[0]\n",
    "    acc = torch.round(acc * 100)\n",
    "    \n",
    "    return acc"
   ]
  },
  {
   "cell_type": "code",
   "execution_count": 23,
   "metadata": {
    "code_folding": []
   },
   "outputs": [
    {
     "name": "stdout",
     "output_type": "stream",
     "text": [
      "Epoch 001: | Loss: 0.46336 | Acc: 78.162\n",
      "Epoch 002: | Loss: 0.37953 | Acc: 82.930\n",
      "Epoch 003: | Loss: 0.32609 | Acc: 85.449\n",
      "Epoch 004: | Loss: 0.28456 | Acc: 87.693\n",
      "Epoch 005: | Loss: 0.25216 | Acc: 89.645\n",
      "Epoch 006: | Loss: 0.21808 | Acc: 90.944\n",
      "Epoch 007: | Loss: 0.20298 | Acc: 91.856\n",
      "Epoch 008: | Loss: 0.17202 | Acc: 93.267\n",
      "Epoch 009: | Loss: 0.16250 | Acc: 93.842\n",
      "Epoch 010: | Loss: 0.14311 | Acc: 94.581\n",
      "Epoch 011: | Loss: 0.13416 | Acc: 94.956\n",
      "Epoch 012: | Loss: 0.13184 | Acc: 94.776\n",
      "Epoch 013: | Loss: 0.11734 | Acc: 95.399\n",
      "Epoch 014: | Loss: 0.11206 | Acc: 95.762\n",
      "Epoch 015: | Loss: 0.09474 | Acc: 96.457\n",
      "Epoch 016: | Loss: 0.11280 | Acc: 95.790\n",
      "Epoch 017: | Loss: 0.08926 | Acc: 96.747\n",
      "Epoch 018: | Loss: 0.08416 | Acc: 96.870\n",
      "Epoch 019: | Loss: 0.07626 | Acc: 97.176\n",
      "Epoch 020: | Loss: 0.07156 | Acc: 97.345\n",
      "Epoch 021: | Loss: 0.08130 | Acc: 96.922\n",
      "Epoch 022: | Loss: 0.06061 | Acc: 97.778\n",
      "Epoch 023: | Loss: 0.06171 | Acc: 97.808\n",
      "Epoch 024: | Loss: 0.06626 | Acc: 97.505\n",
      "Epoch 025: | Loss: 0.06431 | Acc: 97.653\n",
      "Epoch 026: | Loss: 0.05380 | Acc: 98.120\n",
      "Epoch 027: | Loss: 0.06355 | Acc: 97.758\n",
      "Epoch 028: | Loss: 0.05147 | Acc: 98.202\n",
      "Epoch 029: | Loss: 0.06115 | Acc: 97.641\n",
      "Epoch 030: | Loss: 0.04809 | Acc: 98.343\n"
     ]
    }
   ],
   "source": [
    "model.train()\n",
    "\n",
    "for e in range(1, EPOCHS+1):\n",
    "    epoch_loss = 0\n",
    "    epoch_acc = 0\n",
    "    for X_batch, y_batch in train_loader:\n",
    "        X_batch, y_batch = X_batch.to(device), y_batch.to(device)\n",
    "        optimizer.zero_grad()\n",
    "        \n",
    "        y_pred = model(X_batch)\n",
    "        \n",
    "        loss = criterion(y_pred, y_batch.unsqueeze(1))\n",
    "        acc = binary_acc(y_pred, y_batch.unsqueeze(1))\n",
    "        \n",
    "        loss.backward()\n",
    "        optimizer.step()\n",
    "        \n",
    "        epoch_loss += loss.item()\n",
    "        epoch_acc += acc.item()\n",
    "        \n",
    "\n",
    "    print(f'Epoch {e+0:03}: | Loss: {epoch_loss/len(train_loader):.5f} | Acc: {epoch_acc/len(train_loader):.3f}')"
   ]
  },
  {
   "cell_type": "code",
   "execution_count": 24,
   "metadata": {
    "code_folding": []
   },
   "outputs": [],
   "source": [
    "y_pred_list = []\n",
    "tested_x=[]\n",
    "model.eval()\n",
    "with torch.no_grad():\n",
    "    for X_batch in test_loader:\n",
    "        X_batch = X_batch.to(device)\n",
    "        y_test_pred = model(X_batch)\n",
    "        y_test_pred = torch.sigmoid(y_test_pred)\n",
    "        y_pred_tag = torch.round(y_test_pred)\n",
    "        y_pred_list.append(y_pred_tag.cpu().numpy())\n",
    "        tested_x.append(X_batch.cpu().numpy())\n",
    "\n",
    "y_pred_list = [a.squeeze().tolist() for a in y_pred_list]"
   ]
  },
  {
   "cell_type": "code",
   "execution_count": 25,
   "metadata": {},
   "outputs": [
    {
     "name": "stdout",
     "output_type": "stream",
     "text": [
      "3992\n"
     ]
    }
   ],
   "source": [
    "l=len(tested_x)\n",
    "print(l)"
   ]
  },
  {
   "cell_type": "code",
   "execution_count": 26,
   "metadata": {},
   "outputs": [],
   "source": [
    "test_input=np.array(X_test).reshape(l,197,233)"
   ]
  },
  {
   "cell_type": "code",
   "execution_count": 30,
   "metadata": {},
   "outputs": [],
   "source": [
    "tested_mask=np.array(mask_test).reshape(l,197,233) "
   ]
  },
  {
   "cell_type": "code",
   "execution_count": 31,
   "metadata": {},
   "outputs": [
    {
     "data": {
      "text/plain": [
       "(3992, 197, 233)"
      ]
     },
     "execution_count": 31,
     "metadata": {},
     "output_type": "execute_result"
    }
   ],
   "source": [
    "tested_mask.shape"
   ]
  },
  {
   "cell_type": "code",
   "execution_count": 32,
   "metadata": {},
   "outputs": [],
   "source": [
    "Tested_X= np.array(tested_x).reshape(l,197,233)    "
   ]
  },
  {
   "cell_type": "code",
   "execution_count": 33,
   "metadata": {},
   "outputs": [
    {
     "data": {
      "text/plain": [
       "(3992, 197, 233)"
      ]
     },
     "execution_count": 33,
     "metadata": {},
     "output_type": "execute_result"
    }
   ],
   "source": [
    "Tested_X.shape"
   ]
  },
  {
   "cell_type": "code",
   "execution_count": 34,
   "metadata": {
    "scrolled": true
   },
   "outputs": [
    {
     "data": {
      "text/plain": [
       "array([[[ True,  True,  True, ...,  True,  True,  True],\n",
       "        [ True,  True,  True, ...,  True,  True,  True],\n",
       "        [ True,  True,  True, ...,  True,  True,  True],\n",
       "        ...,\n",
       "        [ True,  True,  True, ...,  True,  True,  True],\n",
       "        [ True,  True,  True, ...,  True,  True,  True],\n",
       "        [ True,  True,  True, ...,  True,  True,  True]],\n",
       "\n",
       "       [[ True,  True,  True, ...,  True,  True,  True],\n",
       "        [ True,  True,  True, ...,  True,  True,  True],\n",
       "        [ True,  True,  True, ...,  True,  True,  True],\n",
       "        ...,\n",
       "        [ True,  True,  True, ...,  True,  True,  True],\n",
       "        [ True,  True,  True, ...,  True,  True,  True],\n",
       "        [ True,  True,  True, ...,  True,  True,  True]],\n",
       "\n",
       "       [[ True,  True,  True, ...,  True,  True,  True],\n",
       "        [ True,  True,  True, ...,  True,  True,  True],\n",
       "        [ True,  True,  True, ...,  True,  True,  True],\n",
       "        ...,\n",
       "        [ True,  True,  True, ...,  True,  True,  True],\n",
       "        [ True,  True,  True, ...,  True,  True,  True],\n",
       "        [ True,  True,  True, ...,  True,  True,  True]],\n",
       "\n",
       "       ...,\n",
       "\n",
       "       [[ True,  True,  True, ...,  True,  True,  True],\n",
       "        [ True,  True,  True, ...,  True,  True,  True],\n",
       "        [ True,  True,  True, ...,  True,  True,  True],\n",
       "        ...,\n",
       "        [ True,  True,  True, ...,  True,  True,  True],\n",
       "        [ True,  True,  True, ...,  True,  True,  True],\n",
       "        [ True,  True,  True, ...,  True,  True,  True]],\n",
       "\n",
       "       [[ True,  True,  True, ...,  True,  True,  True],\n",
       "        [ True,  True,  True, ...,  True,  True,  True],\n",
       "        [ True,  True,  True, ...,  True,  True,  True],\n",
       "        ...,\n",
       "        [ True,  True,  True, ...,  True,  True,  True],\n",
       "        [ True,  True,  True, ...,  True,  True,  True],\n",
       "        [ True,  True,  True, ...,  True,  True,  True]],\n",
       "\n",
       "       [[ True,  True,  True, ...,  True,  True,  True],\n",
       "        [ True,  True,  True, ...,  True,  True,  True],\n",
       "        [ True,  True,  True, ...,  True,  True,  True],\n",
       "        ...,\n",
       "        [ True,  True,  True, ...,  True,  True,  True],\n",
       "        [ True,  True,  True, ...,  True,  True,  True],\n",
       "        [ True,  True,  True, ...,  True,  True,  True]]])"
      ]
     },
     "execution_count": 34,
     "metadata": {},
     "output_type": "execute_result"
    }
   ],
   "source": [
    "# Comparing the input set with the set provided by dataloader to confirm order still intact\n",
    "test_input==Tested_X"
   ]
  },
  {
   "cell_type": "code",
   "execution_count": 35,
   "metadata": {},
   "outputs": [],
   "source": [
    "# can no longer validate with non zero function due to images being added.\n",
    "Tested_X=Tested_X+tested_mask"
   ]
  },
  {
   "cell_type": "code",
   "execution_count": 36,
   "metadata": {},
   "outputs": [
    {
     "name": "stdout",
     "output_type": "stream",
     "text": [
      "359 + 3633 = 3992\n"
     ]
    }
   ],
   "source": [
    "y_pred_np=np.array(y_pred_list)\n",
    "\n",
    "y_test_np=np.array(y_test).reshape(len(y_pred_np))\n",
    "\n",
    "test=y_test_np-y_pred_np\n",
    "\n",
    "\n",
    "# which didn't match with true\n",
    "incorrect_index=np.nonzero(test)\n",
    "\n",
    "# Which scans were incorrect\n",
    "incorrect_xset=Tested_X[incorrect_index[0],:,:]\n",
    "\n",
    "# what was the true label when prediction false?\n",
    "labels_p0 = y_test_np[incorrect_index[0]]\n",
    "\n",
    "# Incorrectly classified lesions index\n",
    "p0_t1_index=np.nonzero(labels_p0)\n",
    "p0_t1_xset=incorrect_xset[p0_t1_index[0],:,:]\n",
    "p0_t1=labels_p0[p0_t1_index]\n",
    "\n",
    "p1_t0_xset=np.delete(incorrect_xset,p0_t1_index,axis=0)\n",
    "p1_t0=np.delete(labels_p0,p0_t1_index,axis=0)\n",
    "\n",
    "\n",
    "# Which scans were correctly classified\n",
    "correct_xset = np.delete(Tested_X,incorrect_index,axis=0)\n",
    "labels_p1 = np.delete(y_test_np,incorrect_index,axis=0)\n",
    "\n",
    "p1_t1_index = np.nonzero(labels_p1)\n",
    "\n",
    "p1_t1_xset = correct_xset[p1_t1_index[0],:,:]\n",
    "p1_t1 = labels_p1[p1_t1_index]\n",
    "\n",
    "p0_t0_xset=np.delete(correct_xset,p1_t1_index,axis=0)\n",
    "p0_t0=np.delete(labels_p1,p1_t1_index,axis=0)\n",
    "\n",
    "\n",
    "\n",
    "print(incorrect_xset.shape[0],\"+\", correct_xset.shape[0],\"=\",\\\n",
    "      Tested_X.shape[0])"
   ]
  },
  {
   "cell_type": "code",
   "execution_count": 37,
   "metadata": {},
   "outputs": [
    {
     "data": {
      "text/plain": [
       "1.0"
      ]
     },
     "execution_count": 37,
     "metadata": {},
     "output_type": "execute_result"
    }
   ],
   "source": [
    "max(p0_t1)"
   ]
  },
  {
   "cell_type": "code",
   "execution_count": 38,
   "metadata": {},
   "outputs": [
    {
     "data": {
      "image/png": "[encoded data removed]",
      "text/plain": [
       "<Figure size 720x720 with 2 Axes>"
      ]
     },
     "metadata": {
      "needs_background": "light"
     },
     "output_type": "display_data"
    },
    {
     "data": {
      "image/png": "[encoded data removed]",
      "text/plain": [
       "<Figure size 720x720 with 2 Axes>"
      ]
     },
     "metadata": {
      "needs_background": "light"
     },
     "output_type": "display_data"
    },
    {
     "data": {
      "text/plain": [
       "<Figure size 432x288 with 0 Axes>"
      ]
     },
     "metadata": {},
     "output_type": "display_data"
    }
   ],
   "source": [
    "matplotlib.rcParams['font.size']=12\n",
    "fig=plt.figure(figsize=(10,10))\n",
    "plt.subplot(221)\n",
    "i=np.random.randint(0, len(p1_t0_xset))\n",
    "plt.imshow(p1_t0_xset[i],cmap='Greys_r')\n",
    "plt.title(f\"Incorrect Pred.,True label: No lesion\" )\n",
    "\n",
    "plt.subplot(222)\n",
    "j=np.random.randint(0, len(p0_t1_xset))\n",
    "plt.title(f\"Incorrect Pred., True label: Lesion\" )\n",
    "plt.imshow(p0_t1_xset[j],cmap='Greys_r')\n",
    "plt.show()\n",
    "\n",
    "fig=plt.figure(figsize=(10,10))\n",
    "plt.subplot(223)\n",
    "i=np.random.randint(0, len(p1_t1_xset))\n",
    "plt.imshow(p1_t1_xset[i],cmap='Greys_r')\n",
    "plt.title(f\"Correct Pred.,True label: Lesion\" )\n",
    "\n",
    "plt.subplot(224)\n",
    "j=np.random.randint(0, len(p0_t0_xset))\n",
    "plt.title(f\"Correct Pred., True label: No Lesion\" )\n",
    "plt.imshow(p0_t0_xset[j],cmap='Greys_r')\n",
    "plt.show()\n",
    "plt.tight_layout()"
   ]
  },
  {
   "cell_type": "code",
   "execution_count": 39,
   "metadata": {
    "scrolled": true
   },
   "outputs": [],
   "source": [
    "cm=confusion_matrix(y_test, y_pred_list)"
   ]
  },
  {
   "cell_type": "code",
   "execution_count": 40,
   "metadata": {},
   "outputs": [
    {
     "data": {
      "text/plain": [
       "numpy.ndarray"
      ]
     },
     "execution_count": 40,
     "metadata": {},
     "output_type": "execute_result"
    }
   ],
   "source": [
    "type(cm)"
   ]
  },
  {
   "cell_type": "code",
   "execution_count": 41,
   "metadata": {
    "scrolled": false
   },
   "outputs": [
    {
     "name": "stdout",
     "output_type": "stream",
     "text": [
      "Confusion matrix, without normalization\n",
      "[[2080   97]\n",
      " [ 262 1553]]\n"
     ]
    },
    {
     "data": {
      "image/png": "[encoded data removed]",
      "text/plain": [
       "<Figure size 432x288 with 2 Axes>"
      ]
     },
     "metadata": {
      "needs_background": "light"
     },
     "output_type": "display_data"
    }
   ],
   "source": [
    "from plotcm import plot_confusion_matrix\n",
    "plot_confusion_matrix(cm,(0,1))"
   ]
  },
  {
   "cell_type": "code",
   "execution_count": 42,
   "metadata": {
    "scrolled": true
   },
   "outputs": [
    {
     "name": "stdout",
     "output_type": "stream",
     "text": [
      "              precision    recall  f1-score   support\n",
      "\n",
      "         0.0       0.89      0.96      0.92      2177\n",
      "         1.0       0.94      0.86      0.90      1815\n",
      "\n",
      "    accuracy                           0.91      3992\n",
      "   macro avg       0.91      0.91      0.91      3992\n",
      "weighted avg       0.91      0.91      0.91      3992\n",
      "\n"
     ]
    }
   ],
   "source": [
    "print(classification_report(y_test, y_pred_list))"
   ]
  },
  {
   "cell_type": "code",
   "execution_count": null,
   "metadata": {},
   "outputs": [],
   "source": [
    "result1=classification_report(y_test, y_pred_list)\n",
    "print(result1)"
   ]
  },
  {
   "cell_type": "markdown",
   "metadata": {
    "heading_collapsed": true
   },
   "source": [
    "### Binary classification with CNN"
   ]
  },
  {
   "cell_type": "code",
   "execution_count": null,
   "metadata": {
    "hidden": true
   },
   "outputs": [],
   "source": [
    "# Conv layer dimension calculator\n",
    "h=197\n",
    "w=233\n",
    "p=1\n",
    "k=3\n",
    "s=1\n",
    "\n",
    "h=(h-k+2*p)/s"
   ]
  },
  {
   "cell_type": "code",
   "execution_count": null,
   "metadata": {
    "hidden": true
   },
   "outputs": [],
   "source": [
    "# Module has been put into Net- inheriting characteristics - like cat(animal) would pass animal characteristics to cat class \n",
    "# What attributes does Module already have ~\\anaconda3\\lib\\site-packages\\torch\\nn\\modules\\module.py\n",
    "class Net(Module):\n",
    "    def __init__(self):\n",
    "        super(Net, self).__init__()\n",
    "    \n",
    "        self.cnn_layers=Sequential(\n",
    "    \n",
    "        # Defining a 2D Convolution layer o 196x232\n",
    "        Conv2d(1,5,kernel_size=3,stride=1,padding=1),\n",
    "        \n",
    "        BatchNorm2d(5),\n",
    "            \n",
    "        ReLU(inplace=True),\n",
    "#       input 196,232, output 97,115\n",
    "        MaxPool2d(kernel_size=2, stride=2),\n",
    "        \n",
    "        # Defining another 2D convolution layer o 96,114\n",
    "            \n",
    "        Conv2d(5,5,kernel_size=3, stride=1, padding=1),\n",
    "        \n",
    "        BatchNorm2d(5),\n",
    "        \n",
    "        ReLU(inplace=True),\n",
    "#          input 96,114   output 47,56\n",
    "        MaxPool2d(kernel_size=2, stride=2)\n",
    "        \n",
    "        )\n",
    "        \n",
    "        self.linear_layers = Sequential(\n",
    "            Linear(14210, 64),\n",
    "            Linear(64,1)\n",
    "        )\n",
    "\n",
    "    # Defining the forward pass    \n",
    "    def forward(self, x):\n",
    "        x = self.cnn_layers(x)\n",
    "        x = x.view(x.size(0), -1)\n",
    "        #print(x.size())\n",
    "        x = self.linear_layers(x)\n",
    "        return x"
   ]
  },
  {
   "cell_type": "code",
   "execution_count": null,
   "metadata": {
    "hidden": true
   },
   "outputs": [],
   "source": [
    "x=torch.randn(1,1,197,233)\n",
    "model=Net()\n",
    "model(x)"
   ]
  },
  {
   "cell_type": "code",
   "execution_count": null,
   "metadata": {
    "hidden": true
   },
   "outputs": [],
   "source": []
  },
  {
   "cell_type": "code",
   "execution_count": null,
   "metadata": {
    "hidden": true
   },
   "outputs": [],
   "source": [
    "l_slice_num=all_lesion_slices.shape[0]\n",
    "target1=np.ones(l_slice_num)\n",
    "\n",
    "zero_slice_num=all_zero_slices.shape[0]//3 + 1\n",
    "target2=np.zeros(zero_slice_num)\n",
    "\n",
    "target=np.concatenate((target1,target2),axis=0)\n",
    "\n",
    "train_x1=all_lesion_slices.reshape(l_slice_num,1,197,233)\n",
    "train_x2=all_zero_slices[::3,:,:].reshape(zero_slice_num,1,197,233)\n",
    "\n",
    "# turn to torch and concatenate\n",
    "\n",
    "\n",
    "train_x1=torch.from_numpy(train_x1).float()\n",
    "\n",
    "train_x2=torch.from_numpy(train_x2).float()\n",
    "train_x=torch.cat([train_x1,train_x2],dim=0)\n",
    "\n",
    "# means = train_x.mean(dim=1, keepdim=True)\n",
    "# stds = train_x.std(dim=1, keepdim=True)\n",
    "# normalized_data = (train_x - means) / stds\n",
    "# train_x=normalized_data\n",
    "\n",
    "train_y1=target.reshape(len(target))\n",
    "train_y=torch.from_numpy(train_y1).float()"
   ]
  },
  {
   "cell_type": "code",
   "execution_count": null,
   "metadata": {
    "hidden": true
   },
   "outputs": [],
   "source": [
    "\n",
    "\n",
    "train_x1=lesion_sections.reshape(220,1,197,233)\n",
    "train_x2=lesion_sections2.reshape(220,1,197,233)\n",
    "\n",
    "# turn to torch and concatenate\n",
    "\n",
    "\n",
    "train_x1=torch.from_numpy(train_x1).float()\n",
    "\n",
    "train_x2=torch.from_numpy(train_x2).float()\n",
    "train_x=torch.cat([train_x1,train_x2],dim=0)\n",
    "\n",
    "\n",
    "train_y1=target1.reshape(440)\n",
    "train_y=torch.from_numpy(train_y1).float()\n"
   ]
  },
  {
   "cell_type": "code",
   "execution_count": null,
   "metadata": {
    "hidden": true
   },
   "outputs": [],
   "source": [
    "target"
   ]
  },
  {
   "cell_type": "code",
   "execution_count": null,
   "metadata": {
    "hidden": true
   },
   "outputs": [],
   "source": [
    "X_train, X_test, y_train, y_test = train_test_split(train_x, train_y, test_size=0.33, random_state=69)"
   ]
  },
  {
   "cell_type": "code",
   "execution_count": null,
   "metadata": {
    "hidden": true
   },
   "outputs": [],
   "source": [
    "class trainData(Dataset):\n",
    "    \n",
    "    def __init__(self, X_data, y_data):\n",
    "        self.X_data = X_data\n",
    "        self.y_data = y_data\n",
    "        \n",
    "    def __getitem__(self, index):\n",
    "        return self.X_data[index], self.y_data[index]\n",
    "        \n",
    "    def __len__ (self):\n",
    "        return len(self.X_data)\n",
    "\n",
    "\n",
    "train_data = trainData(torch.FloatTensor(X_train), \n",
    "                       torch.FloatTensor(y_train))\n",
    "## test data    \n",
    "class testData(Dataset):\n",
    "    \n",
    "    def __init__(self, X_data):\n",
    "        self.X_data = X_data\n",
    "        \n",
    "    def __getitem__(self, index):\n",
    "        return self.X_data[index]\n",
    "        \n",
    "    def __len__ (self):\n",
    "        return len(self.X_data)\n",
    "    \n",
    "\n",
    "test_data = testData(torch.FloatTensor(X_test))"
   ]
  },
  {
   "cell_type": "code",
   "execution_count": null,
   "metadata": {
    "hidden": true
   },
   "outputs": [],
   "source": [
    "train_loader = DataLoader(dataset=train_data, batch_size=BATCH_SIZE, shuffle=True)\n",
    "test_loader = DataLoader(dataset=test_data, batch_size=1)"
   ]
  },
  {
   "cell_type": "code",
   "execution_count": null,
   "metadata": {
    "hidden": true,
    "scrolled": true
   },
   "outputs": [],
   "source": [
    "model = Net()\n",
    "model.to(device)\n",
    "print(model)\n",
    "criterion = nn.BCEWithLogitsLoss()\n",
    "optimizer = optim.Adam(model.parameters(), lr=LEARNING_RATE)"
   ]
  },
  {
   "cell_type": "code",
   "execution_count": null,
   "metadata": {
    "hidden": true
   },
   "outputs": [],
   "source": [
    "def binary_acc(y_pred, y_test):\n",
    "    y_pred_tag = torch.round(torch.sigmoid(y_pred))\n",
    "\n",
    "    correct_results_sum = (y_pred_tag == y_test).sum().float()\n",
    "    acc = correct_results_sum/y_test.shape[0]\n",
    "    acc = torch.round(acc * 100)\n",
    "    \n",
    "    return acc"
   ]
  },
  {
   "cell_type": "code",
   "execution_count": null,
   "metadata": {
    "hidden": true
   },
   "outputs": [],
   "source": [
    "model.train()\n",
    "for e in range(1, EPOCHS+1):\n",
    "    epoch_loss = 0\n",
    "    epoch_acc = 0\n",
    "    for X_batch, y_batch in train_loader:\n",
    "        X_batch, y_batch = X_batch.to(device), y_batch.to(device)\n",
    "        optimizer.zero_grad()\n",
    "        \n",
    "        y_pred = model(X_batch)\n",
    "        \n",
    "        loss = criterion(y_pred, y_batch.unsqueeze(1))\n",
    "        acc = binary_acc(y_pred, y_batch.unsqueeze(1))\n",
    "        \n",
    "        loss.backward()\n",
    "        optimizer.step()\n",
    "        \n",
    "        epoch_loss += loss.item()\n",
    "        epoch_acc += acc.item()\n",
    "        \n",
    "\n",
    "    print(f'Epoch {e+0:03}: | Loss: {epoch_loss/len(train_loader):.5f} | Acc: {epoch_acc/len(train_loader):.3f}')"
   ]
  },
  {
   "cell_type": "code",
   "execution_count": null,
   "metadata": {
    "hidden": true
   },
   "outputs": [],
   "source": [
    "y_pred_list = []\n",
    "model.eval()\n",
    "with torch.no_grad():\n",
    "    for X_batch in test_loader:\n",
    "        X_batch = X_batch.to(device)\n",
    "        y_test_pred = model(X_batch)\n",
    "        y_test_pred = torch.sigmoid(y_test_pred)\n",
    "        y_pred_tag = torch.round(y_test_pred)\n",
    "        y_pred_list.append(y_pred_tag.cpu().numpy())\n",
    "\n",
    "y_pred_list = [a.squeeze().tolist() for a in y_pred_list]"
   ]
  },
  {
   "cell_type": "code",
   "execution_count": null,
   "metadata": {
    "hidden": true,
    "scrolled": false
   },
   "outputs": [],
   "source": [
    "cm2=confusion_matrix(y_test, y_pred_list)"
   ]
  },
  {
   "cell_type": "code",
   "execution_count": null,
   "metadata": {
    "hidden": true,
    "scrolled": false
   },
   "outputs": [],
   "source": [
    "from plotcm import plot_confusion_matrix\n",
    "plot_confusion_matrix(cm2,(0,1))"
   ]
  },
  {
   "cell_type": "code",
   "execution_count": null,
   "metadata": {
    "hidden": true,
    "scrolled": true
   },
   "outputs": [],
   "source": [
    "print(classification_report(y_test, y_pred_list))"
   ]
  },
  {
   "cell_type": "markdown",
   "metadata": {
    "heading_collapsed": true
   },
   "source": [
    "### Segmentation with CNN"
   ]
  },
  {
   "cell_type": "code",
   "execution_count": null,
   "metadata": {
    "hidden": true
   },
   "outputs": [],
   "source": [
    "from loss import enhanced_mixing_loss"
   ]
  },
  {
   "cell_type": "markdown",
   "metadata": {
    "hidden": true
   },
   "source": [
    "#### *Access data:* "
   ]
  },
  {
   "cell_type": "code",
   "execution_count": null,
   "metadata": {
    "hidden": true
   },
   "outputs": [],
   "source": [
    "# All Slices\n",
    "\n",
    "image_count=imageArray.shape[0]\n",
    "\n",
    "\n",
    "all_lesion_slices=np.array([])\n",
    "all_zero_slices=np.array([])\n",
    "\n",
    "all_lesion_masks=np.array([])\n",
    "all_zero_masks=np.array([])\n",
    "\n",
    "zero_sum=0\n",
    "\n",
    "for i in range(image_count):\n",
    "    \n",
    "    # 1. Get 3 tuples with coordinate for each dimension   \n",
    "    lesion_index=np.array(maskArray[i,:,:,:].nonzero())\n",
    "    \n",
    "    # 2. Get index of slices with lesions along the top view\n",
    "    top_index=np.unique(lesion_index[2])\n",
    "    \n",
    "    # 3. Get index of slices without lesions along top view\n",
    "    top_lf_index=np.delete(np.arange(maskArray.shape[3]),top_index,axis=0)\n",
    "    \n",
    "    # 4. Create a scan with lesion and lesion free slices with the top view    \n",
    "    zero_slices =imageArray[i,:-1,:-1,top_lf_index]    \n",
    "    lesion_slices=imageArray[i,:-1,:-1,top_index]\n",
    "    lesion_masks=maskArray[i,:-1,:-1,top_index]\n",
    "    zero_masks=maskArray[i,:-1,:-1,top_lf_index]\n",
    "    \n",
    "    # 5. Create a zero mask sum for validation- all zero slice masks = 0 \n",
    "    #zero_sum+=np.sum(maskArray[i,:,:,top_lf_index])\n",
    "    \n",
    "    # 6. All top view lesion and zero slices combined\n",
    "    all_lesion_slices=np.concatenate((all_lesion_slices, lesion_slices), axis=0)\\\n",
    "    if all_lesion_slices.size else lesion_slices\n",
    "    \n",
    "    if i%3==0:\n",
    "        all_zero_slices=np.concatenate((all_zero_slices, zero_slices), axis=0)\\\n",
    "        if all_zero_slices.size else zero_slices\n",
    "    \n",
    "    # 7. All lesion masks top view combined\n",
    "    all_lesion_masks=np.concatenate((all_lesion_masks, lesion_masks), axis=0)\\\n",
    "    if all_lesion_masks.size else lesion_masks\n",
    "    \n",
    "\n",
    "     \n",
    "    \n",
    "  \n",
    "    \n",
    "    "
   ]
  },
  {
   "cell_type": "code",
   "execution_count": null,
   "metadata": {
    "hidden": true
   },
   "outputs": [],
   "source": [
    "print(\"all_lesion_masks: \",all_lesion_masks.shape)\n",
    "print(\"all_lesion_slices: \",all_lesion_slices.shape)\n",
    "print(\"all_zero_slices: \",all_zero_slices.shape)\n",
    "\n",
    "np.max(all_lesion_masks)"
   ]
  },
  {
   "cell_type": "markdown",
   "metadata": {
    "hidden": true
   },
   "source": [
    "##### Setting up training and test sets"
   ]
  },
  {
   "cell_type": "code",
   "execution_count": null,
   "metadata": {
    "hidden": true
   },
   "outputs": [],
   "source": [
    "l_slice_num=all_lesion_slices.shape[0]\n",
    "\n",
    "\n",
    "zero_slice_num=all_zero_slices.shape[0]\n",
    "\n",
    "\n",
    "train_x1=all_lesion_slices.reshape(l_slice_num,1,196,232)/254\n",
    "train_x2=all_zero_slices.reshape(zero_slice_num,1,196,232)/254\n",
    "\n",
    "\n",
    "train_y1=all_lesion_masks.reshape(l_slice_num,196,232)/254\n",
    "train_y2=np.zeros(zero_slice_num*196*232).reshape(zero_slice_num,196,232)\n",
    "\n",
    "\n",
    "# turn to torch and concatenate\n",
    "\n",
    "\n",
    "train_x1=torch.from_numpy(train_x1).float()\n",
    "\n",
    "train_x2=torch.from_numpy(train_x2).float()\n",
    "train_x=torch.cat([train_x1,train_x2],dim=0)\n",
    "\n",
    "\n",
    "\n",
    "train_y1=torch.from_numpy(train_y1).float()\n",
    "train_y2=torch.from_numpy(train_y2).float()\n",
    "train_y=torch.cat([train_y1,train_y2],dim=0)\n",
    "\n",
    "# means = train_x.mean(dim=1, keepdim=True)\n",
    "# stds = train_x.std(dim=1, keepdim=True)\n",
    "# normalized_data = (train_x - means) / stds\n",
    "# train_x=normalized_data\n",
    "\n"
   ]
  },
  {
   "cell_type": "markdown",
   "metadata": {
    "hidden": true
   },
   "source": [
    "##### CNN"
   ]
  },
  {
   "cell_type": "code",
   "execution_count": null,
   "metadata": {
    "code_folding": [],
    "hidden": true
   },
   "outputs": [],
   "source": [
    "# Module has been put into Net- inheriting characteristics - like cat(animal) would pass animal characteristics to cat class \n",
    "# What attributes does Module already have ~\\anaconda3\\lib\\site-packages\\torch\\nn\\modules\\module.py\n",
    "class Net(Module):\n",
    "    def __init__(self):\n",
    "        super(Net, self).__init__()\n",
    "    \n",
    "        self.cnn_layers=Sequential(\n",
    "    \n",
    "        # Defining a 2D Convolution layer o 196x232\n",
    "        Conv2d(1,5,kernel_size=3,stride=1,padding=1),\n",
    "        \n",
    "        BatchNorm2d(5),\n",
    "            \n",
    "        ReLU(inplace=True),\n",
    "#       input 196,232, output 97,115\n",
    "        MaxPool2d(kernel_size=2, stride=2),\n",
    "        \n",
    "        # Defining another 2D convolution layer o 96,114\n",
    "            \n",
    "        Conv2d(5,5,kernel_size=3, stride=1, padding=1),\n",
    "        \n",
    "        BatchNorm2d(5),\n",
    "        \n",
    "        ReLU(inplace=True),\n",
    "            \n",
    "#       input 96,114   output 47,56\n",
    "        MaxPool2d(kernel_size=2, stride=2),\n",
    "            \n",
    "        nn.Upsample(scale_factor=2, mode='nearest'),\n",
    "            \n",
    "        Conv2d(5, 5, kernel_size=3, padding=1),\n",
    "            \n",
    "        ReLU(),\n",
    "            \n",
    "        nn.Upsample(scale_factor=2, mode='nearest'),\n",
    "            \n",
    "        Conv2d(5, 5, kernel_size=3, padding=0),\n",
    "            \n",
    "        ReLU(),\n",
    "\n",
    "            \n",
    "        nn.Conv2d(5, 1, kernel_size=1, padding=1),\n",
    "        nn.Sigmoid()\n",
    "        \n",
    "        )        \n",
    "    \n",
    "\n",
    "    # Defining the forward pass    \n",
    "    def forward(self, x):\n",
    "        x = self.cnn_layers(x) \n",
    "        #print(x.size())\n",
    "\n",
    "        return x"
   ]
  },
  {
   "cell_type": "code",
   "execution_count": null,
   "metadata": {
    "hidden": true
   },
   "outputs": [],
   "source": [
    "X_train, X_test, y_train, y_test = train_test_split(train_x, train_y, test_size=0.33, random_state=69)"
   ]
  },
  {
   "cell_type": "code",
   "execution_count": null,
   "metadata": {
    "hidden": true,
    "scrolled": false
   },
   "outputs": [],
   "source": [
    "x=torch.randn(1,1,197,233)\n",
    "n=Net()\n",
    "n(x)"
   ]
  },
  {
   "cell_type": "code",
   "execution_count": null,
   "metadata": {
    "code_folding": [
     0,
     16
    ],
    "hidden": true
   },
   "outputs": [],
   "source": [
    "class trainData(Dataset):\n",
    "    \n",
    "    def __init__(self, X_data, y_data):\n",
    "        self.X_data = X_data\n",
    "        self.y_data = y_data\n",
    "        \n",
    "    def __getitem__(self, index):\n",
    "        return self.X_data[index], self.y_data[index]\n",
    "        \n",
    "    def __len__ (self):\n",
    "        return len(self.X_data)\n",
    "\n",
    "\n",
    "train_data = trainData(torch.FloatTensor(X_train), \n",
    "                       torch.FloatTensor(y_train))\n",
    "## test data    \n",
    "class testData(Dataset):\n",
    "    \n",
    "    def __init__(self, X_data):\n",
    "        self.X_data = X_data\n",
    "        \n",
    "    def __getitem__(self, index):\n",
    "        return self.X_data[index]\n",
    "        \n",
    "    def __len__ (self):\n",
    "        return len(self.X_data)\n",
    "    \n",
    "\n",
    "test_data = testData(torch.FloatTensor(X_test))"
   ]
  },
  {
   "cell_type": "code",
   "execution_count": null,
   "metadata": {
    "hidden": true
   },
   "outputs": [],
   "source": [
    "EPOCHS = 30\n",
    "BATCH_SIZE = 1\n",
    "LEARNING_RATE = 0.001"
   ]
  },
  {
   "cell_type": "code",
   "execution_count": null,
   "metadata": {
    "hidden": true
   },
   "outputs": [],
   "source": [
    "train_loader = DataLoader(dataset=train_data, batch_size=BATCH_SIZE, shuffle=True)\n",
    "test_loader = DataLoader(dataset=test_data, batch_size=1)"
   ]
  },
  {
   "cell_type": "code",
   "execution_count": null,
   "metadata": {
    "hidden": true
   },
   "outputs": [],
   "source": [
    "device = torch.device(\"cuda:0\" if torch.cuda.is_available() else \"cpu\")\n",
    "#device=torch.device(\"cpu\")\n",
    "print(device)\n"
   ]
  },
  {
   "cell_type": "code",
   "execution_count": null,
   "metadata": {
    "hidden": true,
    "scrolled": true
   },
   "outputs": [],
   "source": [
    "model = Net()\n",
    "model.to(device)\n",
    "print(model)\n",
    "#criterion = enhanced_mixing_loss()\n",
    "optimizer = optim.Adam(model.parameters(), lr=LEARNING_RATE)"
   ]
  },
  {
   "cell_type": "code",
   "execution_count": null,
   "metadata": {
    "hidden": true
   },
   "outputs": [],
   "source": [
    "def binary_acc(y_pred, y_test):\n",
    "    y_pred_tag = torch.round(torch.sigmoid(y_pred))\n",
    "\n",
    "    correct_results_sum = (y_pred_tag == y_test).sum().float()\n",
    "    acc = correct_results_sum/y_test.shape[0]\n",
    "    acc = torch.round(acc * 100)\n",
    "    \n",
    "    return acc"
   ]
  },
  {
   "cell_type": "code",
   "execution_count": null,
   "metadata": {
    "hidden": true
   },
   "outputs": [],
   "source": [
    "model.train()\n",
    "for e in range(1, EPOCHS+1):\n",
    "    epoch_loss = 0\n",
    "    epoch_acc = 0\n",
    "    for X_batch, y_batch in train_loader:\n",
    "        X_batch, y_batch = X_batch.to(device), y_batch.to(device)\n",
    "        optimizer.zero_grad()\n",
    "        \n",
    "        y_pred = model(X_batch)\n",
    "        \n",
    "        loss = enhanced_mixing_loss(y_batch,y_pred)\n",
    "        #acc = binary_acc(y_pred, y_batch.unsqueeze(1))\n",
    "        \n",
    "        loss.backward()\n",
    "        optimizer.step()\n",
    "        \n",
    "        epoch_loss += loss.item()\n",
    "        #epoch_acc += acc.item()\n",
    "        \n",
    "# | Acc: {epoch_acc/len(train_loader):.3f}\n",
    "    print(f'Epoch {e+0:03}: | Loss: {epoch_loss/len(train_loader):.5f} ')"
   ]
  },
  {
   "cell_type": "code",
   "execution_count": null,
   "metadata": {
    "hidden": true
   },
   "outputs": [],
   "source": [
    "y_pred_list = []\n",
    "model.eval()\n",
    "with torch.no_grad():\n",
    "    for X_batch in test_loader:\n",
    "        X_batch = X_batch.to(device)\n",
    "        y_test_pred = model(X_batch)\n",
    "        y_test_pred = torch.sigmoid(y_test_pred)\n",
    "        y_pred_tag = torch.round(y_test_pred)\n",
    "        y_pred_list.append(y_pred_tag.cpu().numpy())\n",
    "\n",
    "y_pred_list = [a.squeeze().tolist() for a in y_pred_list]"
   ]
  },
  {
   "cell_type": "code",
   "execution_count": null,
   "metadata": {
    "hidden": true,
    "scrolled": false
   },
   "outputs": [],
   "source": [
    "cm2=confusion_matrix(y_test, y_pred_list)"
   ]
  },
  {
   "cell_type": "code",
   "execution_count": null,
   "metadata": {
    "hidden": true,
    "scrolled": false
   },
   "outputs": [],
   "source": [
    "from plotcm import plot_confusion_matrix\n",
    "plot_confusion_matrix(cm2,(0,1))"
   ]
  },
  {
   "cell_type": "code",
   "execution_count": null,
   "metadata": {
    "hidden": true,
    "scrolled": true
   },
   "outputs": [],
   "source": [
    "print(classification_report(y_test, y_pred_list))"
   ]
  },
  {
   "cell_type": "code",
   "execution_count": null,
   "metadata": {
    "hidden": true
   },
   "outputs": [],
   "source": []
  },
  {
   "cell_type": "code",
   "execution_count": null,
   "metadata": {
    "hidden": true
   },
   "outputs": [],
   "source": []
  }
 ],
 "metadata": {
  "kernelspec": {
   "display_name": "Python 3",
   "language": "python",
   "name": "python3"
  },
  "language_info": {
   "codemirror_mode": {
    "name": "ipython",
    "version": 3
   },
   "file_extension": ".py",
   "mimetype": "text/x-python",
   "name": "python",
   "nbconvert_exporter": "python",
   "pygments_lexer": "ipython3",
   "version": "3.8.3"
  }
 },
 "nbformat": 4,
 "nbformat_minor": 4
}
